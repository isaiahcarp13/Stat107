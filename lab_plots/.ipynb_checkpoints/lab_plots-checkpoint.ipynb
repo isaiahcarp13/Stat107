{
 "cells": [
  {
   "cell_type": "markdown",
   "metadata": {},
   "source": [
    "# Welcome to the University of Illinois administrative office!\n",
    "\n",
    "We are so thankful that you agreed to take a look at our salary data. We have a dataset for you that we need you to perform some analysis on and create some plots that we can show the state to get funding for another year. Further details follow below.\n",
    "\n",
    "Thanks again!\n",
    " \n",
    "\\- Chancellor Kelly\n",
    "\n",
    "## Lab: Plots\n",
    "\n",
    "In this lab, you will:\n",
    "\n",
    "- Work with real UIUC salary data to explore some of the statistics that we talked about in class: mean, median, mode, standard deviation, and quartiles!\n",
    "- Practice creating plots to visualize quantitative data: boxplots, scatter plots, and histograms"
   ]
  },
  {
   "cell_type": "markdown",
   "metadata": {},
   "source": [
    "# 0. Import the Data\n",
    "\n",
    "In the same directory as this notebook find the dataset that is provided.  You know what to do to import the libraries and read the data! :)"
   ]
  },
  {
   "cell_type": "code",
   "execution_count": 2,
   "metadata": {
    "deletable": false,
    "nbgrader": {
     "cell_type": "code",
     "checksum": "40a9b55a4721908243d995f8d7f2fbb7",
     "grade": false,
     "grade_id": "cell-27971beecac131cc",
     "locked": false,
     "schema_version": 3,
     "solution": true,
     "task": false
    }
   },
   "outputs": [
    {
     "data": {
      "text/html": [
       "<div>\n",
       "<style scoped>\n",
       "    .dataframe tbody tr th:only-of-type {\n",
       "        vertical-align: middle;\n",
       "    }\n",
       "\n",
       "    .dataframe tbody tr th {\n",
       "        vertical-align: top;\n",
       "    }\n",
       "\n",
       "    .dataframe thead th {\n",
       "        text-align: right;\n",
       "    }\n",
       "</style>\n",
       "<table border=\"1\" class=\"dataframe\">\n",
       "  <thead>\n",
       "    <tr style=\"text-align: right;\">\n",
       "      <th></th>\n",
       "      <th>Employee Name</th>\n",
       "      <th>Academic Title</th>\n",
       "      <th>Primary Job Title</th>\n",
       "      <th>Primary College</th>\n",
       "      <th>Primary Department</th>\n",
       "      <th>Salary</th>\n",
       "      <th>PrevFTE</th>\n",
       "      <th>FTE</th>\n",
       "      <th>All Titles</th>\n",
       "      <th>Empl Class</th>\n",
       "      <th>PrevSalary</th>\n",
       "    </tr>\n",
       "  </thead>\n",
       "  <tbody>\n",
       "    <tr>\n",
       "      <td>0</td>\n",
       "      <td>Edakara, Manu I</td>\n",
       "      <td>NaN</td>\n",
       "      <td>ASSOC DIR ENTREPRNRL CMTY</td>\n",
       "      <td>Business</td>\n",
       "      <td>Academy Entrepreneurial Ldrshp</td>\n",
       "      <td>66300.00</td>\n",
       "      <td>1.0</td>\n",
       "      <td>1.0</td>\n",
       "      <td>['ASSOC DIR ENTREPRNRL CMTY']</td>\n",
       "      <td>['BA']</td>\n",
       "      <td>65000.00</td>\n",
       "    </tr>\n",
       "    <tr>\n",
       "      <td>1</td>\n",
       "      <td>Quarton, John Edward</td>\n",
       "      <td>NaN</td>\n",
       "      <td>SR DIR INNOVA ENTRPRNRL PRGM</td>\n",
       "      <td>Business</td>\n",
       "      <td>Academy Entrepreneurial Ldrshp</td>\n",
       "      <td>150480.70</td>\n",
       "      <td>1.0</td>\n",
       "      <td>1.0</td>\n",
       "      <td>['SR DIR INNOVA ENTRPRNRL PRGM' 'DIR HOEFT T&amp;M...</td>\n",
       "      <td>['BA']</td>\n",
       "      <td>147530.00</td>\n",
       "    </tr>\n",
       "    <tr>\n",
       "      <td>2</td>\n",
       "      <td>Werpetinski, Valeri A</td>\n",
       "      <td>NaN</td>\n",
       "      <td>VST ASSOC DIR, ENTRPRNRL EDUC</td>\n",
       "      <td>Business</td>\n",
       "      <td>Academy Entrepreneurial Ldrshp</td>\n",
       "      <td>71400.00</td>\n",
       "      <td>1.0</td>\n",
       "      <td>1.0</td>\n",
       "      <td>['VST ASSOC DIR, ENTRPRNRL EDUC']</td>\n",
       "      <td>['BA']</td>\n",
       "      <td>70000.00</td>\n",
       "    </tr>\n",
       "    <tr>\n",
       "      <td>3</td>\n",
       "      <td>Abdel-Khalik, Ahmed Rashad</td>\n",
       "      <td>PROF</td>\n",
       "      <td>PROF</td>\n",
       "      <td>Business</td>\n",
       "      <td>Accountancy</td>\n",
       "      <td>318007.00</td>\n",
       "      <td>1.0</td>\n",
       "      <td>1.0</td>\n",
       "      <td>['DIR CIERA' 'PROF' 'V K ZIMMERMAN PROF']</td>\n",
       "      <td>['BC' 'AA']</td>\n",
       "      <td>312556.00</td>\n",
       "    </tr>\n",
       "    <tr>\n",
       "      <td>4</td>\n",
       "      <td>Ahmed, Waqar</td>\n",
       "      <td>LECTURER</td>\n",
       "      <td>LECTURER</td>\n",
       "      <td>Business</td>\n",
       "      <td>Accountancy</td>\n",
       "      <td>96691.00</td>\n",
       "      <td>1.0</td>\n",
       "      <td>1.0</td>\n",
       "      <td>['LECTURER']</td>\n",
       "      <td>['AA']</td>\n",
       "      <td>96691.00</td>\n",
       "    </tr>\n",
       "    <tr>\n",
       "      <td>...</td>\n",
       "      <td>...</td>\n",
       "      <td>...</td>\n",
       "      <td>...</td>\n",
       "      <td>...</td>\n",
       "      <td>...</td>\n",
       "      <td>...</td>\n",
       "      <td>...</td>\n",
       "      <td>...</td>\n",
       "      <td>...</td>\n",
       "      <td>...</td>\n",
       "      <td>...</td>\n",
       "    </tr>\n",
       "    <tr>\n",
       "      <td>3550</td>\n",
       "      <td>Wolfson, Ouri</td>\n",
       "      <td>PROF</td>\n",
       "      <td>???</td>\n",
       "      <td>???</td>\n",
       "      <td>???</td>\n",
       "      <td>200456.78</td>\n",
       "      <td>0.0</td>\n",
       "      <td>0.0</td>\n",
       "      <td>['PROF']</td>\n",
       "      <td>['AA']</td>\n",
       "      <td>200456.78</td>\n",
       "    </tr>\n",
       "    <tr>\n",
       "      <td>3551</td>\n",
       "      <td>Wu, Maryalice S</td>\n",
       "      <td>ADJ ASST PROF</td>\n",
       "      <td>???</td>\n",
       "      <td>???</td>\n",
       "      <td>???</td>\n",
       "      <td>81962.71</td>\n",
       "      <td>0.0</td>\n",
       "      <td>0.0</td>\n",
       "      <td>['ADJ ASST PROF']</td>\n",
       "      <td>['AA']</td>\n",
       "      <td>80355.60</td>\n",
       "    </tr>\n",
       "    <tr>\n",
       "      <td>3552</td>\n",
       "      <td>Yau, Peter M</td>\n",
       "      <td>RES ASST PROF</td>\n",
       "      <td>???</td>\n",
       "      <td>???</td>\n",
       "      <td>???</td>\n",
       "      <td>131447.50</td>\n",
       "      <td>0.0</td>\n",
       "      <td>0.0</td>\n",
       "      <td>['RES ASST PROF']</td>\n",
       "      <td>['AL']</td>\n",
       "      <td>128617.91</td>\n",
       "    </tr>\n",
       "    <tr>\n",
       "      <td>3553</td>\n",
       "      <td>Yodh, Jaya G</td>\n",
       "      <td>RES ASST PROF</td>\n",
       "      <td>???</td>\n",
       "      <td>???</td>\n",
       "      <td>???</td>\n",
       "      <td>112200.00</td>\n",
       "      <td>0.0</td>\n",
       "      <td>0.0</td>\n",
       "      <td>['RES ASST PROF']</td>\n",
       "      <td>['AL']</td>\n",
       "      <td>110000.00</td>\n",
       "    </tr>\n",
       "    <tr>\n",
       "      <td>3554</td>\n",
       "      <td>Zerai, Assata</td>\n",
       "      <td>PROF</td>\n",
       "      <td>???</td>\n",
       "      <td>???</td>\n",
       "      <td>???</td>\n",
       "      <td>187530.00</td>\n",
       "      <td>0.0</td>\n",
       "      <td>0.0</td>\n",
       "      <td>['PROF']</td>\n",
       "      <td>['AA']</td>\n",
       "      <td>184441.29</td>\n",
       "    </tr>\n",
       "  </tbody>\n",
       "</table>\n",
       "<p>3555 rows × 11 columns</p>\n",
       "</div>"
      ],
      "text/plain": [
       "                   Employee Name Academic Title  \\\n",
       "0                Edakara, Manu I            NaN   \n",
       "1           Quarton, John Edward            NaN   \n",
       "2          Werpetinski, Valeri A            NaN   \n",
       "3     Abdel-Khalik, Ahmed Rashad           PROF   \n",
       "4                   Ahmed, Waqar       LECTURER   \n",
       "...                          ...            ...   \n",
       "3550               Wolfson, Ouri           PROF   \n",
       "3551             Wu, Maryalice S  ADJ ASST PROF   \n",
       "3552                Yau, Peter M  RES ASST PROF   \n",
       "3553                Yodh, Jaya G  RES ASST PROF   \n",
       "3554               Zerai, Assata           PROF   \n",
       "\n",
       "                  Primary Job Title Primary College  \\\n",
       "0         ASSOC DIR ENTREPRNRL CMTY        Business   \n",
       "1      SR DIR INNOVA ENTRPRNRL PRGM        Business   \n",
       "2     VST ASSOC DIR, ENTRPRNRL EDUC        Business   \n",
       "3                              PROF        Business   \n",
       "4                          LECTURER        Business   \n",
       "...                             ...             ...   \n",
       "3550                            ???             ???   \n",
       "3551                            ???             ???   \n",
       "3552                            ???             ???   \n",
       "3553                            ???             ???   \n",
       "3554                            ???             ???   \n",
       "\n",
       "                  Primary Department     Salary  PrevFTE  FTE  \\\n",
       "0     Academy Entrepreneurial Ldrshp   66300.00      1.0  1.0   \n",
       "1     Academy Entrepreneurial Ldrshp  150480.70      1.0  1.0   \n",
       "2     Academy Entrepreneurial Ldrshp   71400.00      1.0  1.0   \n",
       "3                        Accountancy  318007.00      1.0  1.0   \n",
       "4                        Accountancy   96691.00      1.0  1.0   \n",
       "...                              ...        ...      ...  ...   \n",
       "3550                             ???  200456.78      0.0  0.0   \n",
       "3551                             ???   81962.71      0.0  0.0   \n",
       "3552                             ???  131447.50      0.0  0.0   \n",
       "3553                             ???  112200.00      0.0  0.0   \n",
       "3554                             ???  187530.00      0.0  0.0   \n",
       "\n",
       "                                             All Titles   Empl Class  \\\n",
       "0                         ['ASSOC DIR ENTREPRNRL CMTY']       ['BA']   \n",
       "1     ['SR DIR INNOVA ENTRPRNRL PRGM' 'DIR HOEFT T&M...       ['BA']   \n",
       "2                     ['VST ASSOC DIR, ENTRPRNRL EDUC']       ['BA']   \n",
       "3             ['DIR CIERA' 'PROF' 'V K ZIMMERMAN PROF']  ['BC' 'AA']   \n",
       "4                                          ['LECTURER']       ['AA']   \n",
       "...                                                 ...          ...   \n",
       "3550                                           ['PROF']       ['AA']   \n",
       "3551                                  ['ADJ ASST PROF']       ['AA']   \n",
       "3552                                  ['RES ASST PROF']       ['AL']   \n",
       "3553                                  ['RES ASST PROF']       ['AL']   \n",
       "3554                                           ['PROF']       ['AA']   \n",
       "\n",
       "      PrevSalary  \n",
       "0       65000.00  \n",
       "1      147530.00  \n",
       "2       70000.00  \n",
       "3      312556.00  \n",
       "4       96691.00  \n",
       "...          ...  \n",
       "3550   200456.78  \n",
       "3551    80355.60  \n",
       "3552   128617.91  \n",
       "3553   110000.00  \n",
       "3554   184441.29  \n",
       "\n",
       "[3555 rows x 11 columns]"
      ]
     },
     "execution_count": 2,
     "metadata": {},
     "output_type": "execute_result"
    }
   ],
   "source": [
    "import pandas as pd\n",
    "df = pd.read_csv(\"graybook.csv\")\n",
    "df"
   ]
  },
  {
   "cell_type": "markdown",
   "metadata": {},
   "source": [
    "# 1. The Basics\n",
    "\n",
    "\n",
    "## Exploring measures of center: Mean, Median, and Standard Deviation\n",
    "\n",
    "The first thing we need from you is to get us some basics statistics at both a university and department level. We need to know:\n",
    "1. the number of employees at UIUC\n",
    "2. the mean salary\n",
    "3. the median salary\n",
    "4. the standard deviation"
   ]
  },
  {
   "cell_type": "code",
   "execution_count": 3,
   "metadata": {
    "deletable": false,
    "nbgrader": {
     "cell_type": "code",
     "checksum": "b1bea43f79c33b854e1f15dfe00b180b",
     "grade": false,
     "grade_id": "cell-419796a0b415e588",
     "locked": false,
     "schema_version": 3,
     "solution": true,
     "task": false
    }
   },
   "outputs": [
    {
     "data": {
      "text/plain": [
       "3555"
      ]
     },
     "execution_count": 3,
     "metadata": {},
     "output_type": "execute_result"
    }
   ],
   "source": [
    "university_num_emp = len(df)\n",
    "university_num_emp\n",
    "\n"
   ]
  },
  {
   "cell_type": "code",
   "execution_count": 4,
   "metadata": {
    "deletable": false,
    "nbgrader": {
     "cell_type": "code",
     "checksum": "f86aac497feb3ecd4289626231b44964",
     "grade": false,
     "grade_id": "cell-4dbbeef1022a20e4",
     "locked": false,
     "schema_version": 3,
     "solution": true,
     "task": false
    }
   },
   "outputs": [
    {
     "data": {
      "text/plain": [
       "101284.91668642375"
      ]
     },
     "execution_count": 4,
     "metadata": {},
     "output_type": "execute_result"
    }
   ],
   "source": [
    "university_mean_sal = df[\"Salary\"].mean()\n",
    "university_mean_sal\n",
    "\n"
   ]
  },
  {
   "cell_type": "code",
   "execution_count": 5,
   "metadata": {
    "deletable": false,
    "nbgrader": {
     "cell_type": "code",
     "checksum": "e8f355f508ffadd1f9b645c9686c73ea",
     "grade": false,
     "grade_id": "cell-727195c3fef2cf78",
     "locked": false,
     "schema_version": 3,
     "solution": true,
     "task": false
    }
   },
   "outputs": [
    {
     "data": {
      "text/plain": [
       "86995.0"
      ]
     },
     "execution_count": 5,
     "metadata": {},
     "output_type": "execute_result"
    }
   ],
   "source": [
    "university_median_sal = df[\"Salary\"].median()\n",
    "university_median_sal\n",
    "\n"
   ]
  },
  {
   "cell_type": "code",
   "execution_count": 6,
   "metadata": {
    "deletable": false,
    "nbgrader": {
     "cell_type": "code",
     "checksum": "3da9719c35e35c72a09a1068d100b0f1",
     "grade": false,
     "grade_id": "cell-35e651d14a628e50",
     "locked": false,
     "schema_version": 3,
     "solution": true,
     "task": false
    }
   },
   "outputs": [
    {
     "data": {
      "text/plain": [
       "55129.29496464768"
      ]
     },
     "execution_count": 6,
     "metadata": {},
     "output_type": "execute_result"
    }
   ],
   "source": [
    "university_std_sal = df[\"Salary\"].std()\n",
    "university_std_sal\n",
    "\n"
   ]
  },
  {
   "cell_type": "code",
   "execution_count": 7,
   "metadata": {
    "deletable": false,
    "editable": false,
    "nbgrader": {
     "cell_type": "code",
     "checksum": "56f09ea04974ac5c89f390a8825daa39",
     "grade": true,
     "grade_id": "cell-04e624817d681f8e",
     "locked": true,
     "points": 1,
     "schema_version": 3,
     "solution": false,
     "task": false
    }
   },
   "outputs": [
    {
     "name": "stdout",
     "output_type": "stream",
     "text": [
      "🎉 All tests passed! 🎉\n"
     ]
    }
   ],
   "source": [
    "## == TEST CASES for Puzzle 1.1 ==\n",
    "# - This read-only cell contains test cases for your previous cell.\n",
    "# - If this cell runs with a message (with the emoji showing), you PASSED all test cases!\n",
    "# - If this cell results in any errors, check your previous cell, make changes, and RE-RUN your code and then this cell.\n",
    "x = university_num_emp + university_mean_sal + university_median_sal + university_std_sal\n",
    "y = ((university_mean_sal - university_median_sal) * university_std_sal) / university_num_emp\n",
    "\n",
    "assert( abs(x - 246964.21165107167) < 1 ), \"It looks like your calculations are off?\"\n",
    "assert( abs(y - 221601.415478511) < 1 ), \"It looks like your calculations are off?\"\n",
    "\n",
    "## == SUCCESS MESSAGE ==\n",
    "# You will only see this message (with the emoji showing) if you passed all test cases:\n",
    "tada = \"\\N{PARTY POPPER}\"\n",
    "print(f\"{tada} All tests passed! {tada}\")"
   ]
  },
  {
   "cell_type": "markdown",
   "metadata": {},
   "source": [
    "## Department-level Data\n",
    "\n",
    "Now we need the same data at a department level. In other words, you want each of those statistics for each department.  There was a certain function you learned a bit ago that will help you **group** all of the people in each department so you can find departmental aggregates.\n",
    "\n",
    "Instead of just grouping by a single aggregate, use **Python list syntax** to aggregate to find the `count`, `mean`, and `median`.  After that, select only the `'Primary Department'` and `'Salary'` data.\n",
    "\n",
    "*(You can view technical docs here:\n",
    "https://pandas.pydata.org/pandas-docs/stable/reference/groupby.html)*"
   ]
  },
  {
   "cell_type": "code",
   "execution_count": 12,
   "metadata": {
    "deletable": false,
    "nbgrader": {
     "cell_type": "code",
     "checksum": "912abaecdf749394d0921e160cd15746",
     "grade": false,
     "grade_id": "cell-72189b308296916b",
     "locked": false,
     "schema_version": 3,
     "solution": true,
     "task": false
    }
   },
   "outputs": [
    {
     "data": {
      "text/html": [
       "<div>\n",
       "<style scoped>\n",
       "    .dataframe tbody tr th:only-of-type {\n",
       "        vertical-align: middle;\n",
       "    }\n",
       "\n",
       "    .dataframe tbody tr th {\n",
       "        vertical-align: top;\n",
       "    }\n",
       "\n",
       "    .dataframe thead tr th {\n",
       "        text-align: left;\n",
       "    }\n",
       "</style>\n",
       "<table border=\"1\" class=\"dataframe\">\n",
       "  <thead>\n",
       "    <tr>\n",
       "      <th></th>\n",
       "      <th colspan=\"4\" halign=\"left\">Salary</th>\n",
       "      <th>Primary Department</th>\n",
       "    </tr>\n",
       "    <tr>\n",
       "      <th></th>\n",
       "      <th>count</th>\n",
       "      <th>mean</th>\n",
       "      <th>median</th>\n",
       "      <th>std</th>\n",
       "      <th></th>\n",
       "    </tr>\n",
       "  </thead>\n",
       "  <tbody>\n",
       "    <tr>\n",
       "      <td>13</td>\n",
       "      <td>3</td>\n",
       "      <td>94663.333333</td>\n",
       "      <td>95000.0</td>\n",
       "      <td>28121.511487</td>\n",
       "      <td>American Indian Studies Prgrm</td>\n",
       "    </tr>\n",
       "    <tr>\n",
       "      <td>117</td>\n",
       "      <td>27</td>\n",
       "      <td>115625.557407</td>\n",
       "      <td>102464.0</td>\n",
       "      <td>42121.495095</td>\n",
       "      <td>Political Science</td>\n",
       "    </tr>\n",
       "    <tr>\n",
       "      <td>59</td>\n",
       "      <td>19</td>\n",
       "      <td>100083.065789</td>\n",
       "      <td>106044.0</td>\n",
       "      <td>33709.242607</td>\n",
       "      <td>Educational Psychology</td>\n",
       "    </tr>\n",
       "    <tr>\n",
       "      <td>24</td>\n",
       "      <td>17</td>\n",
       "      <td>106688.902353</td>\n",
       "      <td>94109.0</td>\n",
       "      <td>45108.219852</td>\n",
       "      <td>Atmospheric Sciences</td>\n",
       "    </tr>\n",
       "    <tr>\n",
       "      <td>131</td>\n",
       "      <td>26</td>\n",
       "      <td>69311.384615</td>\n",
       "      <td>59831.0</td>\n",
       "      <td>29619.620817</td>\n",
       "      <td>Special Education</td>\n",
       "    </tr>\n",
       "  </tbody>\n",
       "</table>\n",
       "</div>"
      ],
      "text/plain": [
       "    Salary                                         \\\n",
       "     count           mean    median           std   \n",
       "13       3   94663.333333   95000.0  28121.511487   \n",
       "117     27  115625.557407  102464.0  42121.495095   \n",
       "59      19  100083.065789  106044.0  33709.242607   \n",
       "24      17  106688.902353   94109.0  45108.219852   \n",
       "131     26   69311.384615   59831.0  29619.620817   \n",
       "\n",
       "                Primary Department  \n",
       "                                    \n",
       "13   American Indian Studies Prgrm  \n",
       "117              Political Science  \n",
       "59          Educational Psychology  \n",
       "24            Atmospheric Sciences  \n",
       "131              Special Education  "
      ]
     },
     "execution_count": 12,
     "metadata": {},
     "output_type": "execute_result"
    }
   ],
   "source": [
    "group = df.groupby(\"Primary Department\")\n",
    "agg_dff = group.agg([\"count\", \"mean\", \"median\",\"std\"]).reset_index()\n",
    "agg_df = agg_dff[[\"Salary\", \"Primary Department\"]]\n",
    "\n",
    "# Display 5 random rows to make sure it works:\n",
    "agg_df.sample(5)"
   ]
  },
  {
   "cell_type": "code",
   "execution_count": 11,
   "metadata": {
    "deletable": false,
    "editable": false,
    "nbgrader": {
     "cell_type": "code",
     "checksum": "0bbf4ebd7bc25281632fc296ffd2b063",
     "grade": true,
     "grade_id": "cell-d4a69c902629304a",
     "locked": true,
     "points": 1,
     "schema_version": 3,
     "solution": false,
     "task": false
    }
   },
   "outputs": [
    {
     "name": "stdout",
     "output_type": "stream",
     "text": [
      "🎉 All tests passed! 🎉\n"
     ]
    }
   ],
   "source": [
    "## == TEST CASES for Puzzle 1.2 ==\n",
    "# - This read-only cell contains test cases for your previous cell.\n",
    "# - If this cell runs with a message (with the emoji showing), you PASSED all test cases!\n",
    "# - If this cell results in any errors, check your previous cell, make changes, and RE-RUN your code and then this cell.\n",
    "assert( len(agg_df) == 140 ), \"You should have 140 different departments.  Check to make sure you grouped the data?\"\n",
    "assert( \"Salary\" in agg_df ), \"You must have a salary output\"\n",
    "assert( \"mean\" in agg_df[\"Salary\"] ), \"Make sure you have a mean in your salary\"\n",
    "assert( \"count\" in agg_df[\"Salary\"] ), \"Make sure you have a count in your salary\"\n",
    "assert( \"median\" in agg_df[\"Salary\"] ), \"Make sure you have a median in your salary\"\n",
    "assert( len(agg_df.columns) == 4 ), \"Make sure you have ONLY the salary data and the department\"\n",
    "\n",
    "## == SUCCESS MESSAGE ==\n",
    "# You will only see this message (with the emoji showing) if you passed all test cases:\n",
    "tada = \"\\N{PARTY POPPER}\"\n",
    "print(f\"{tada} All tests passed! {tada}\")"
   ]
  },
  {
   "cell_type": "markdown",
   "metadata": {},
   "source": [
    "Your boss is thrilled with the numbers you've come up with! Now she's ready to go to the state to ask for money. To know how much to ask for, she wants you to **add a column** to the department-grouped DataFrame that is equal to the **mean** salary of that department multiplied by the number of people in that department. She wants you to provide her with this table and the sum of all of the values in this column.\n",
    "\n",
    "Hop to it!"
   ]
  },
  {
   "cell_type": "code",
   "execution_count": 13,
   "metadata": {
    "deletable": false,
    "nbgrader": {
     "cell_type": "code",
     "checksum": "86b741d1a4d55d4d35847373f4f953c0",
     "grade": false,
     "grade_id": "cell-4532891e3738e59e",
     "locked": false,
     "schema_version": 3,
     "solution": true,
     "task": false
    }
   },
   "outputs": [
    {
     "name": "stderr",
     "output_type": "stream",
     "text": [
      "C:\\Users\\Isaia\\Anaconda3\\lib\\site-packages\\ipykernel_launcher.py:1: SettingWithCopyWarning: \n",
      "A value is trying to be set on a copy of a slice from a DataFrame.\n",
      "Try using .loc[row_indexer,col_indexer] = value instead\n",
      "\n",
      "See the caveats in the documentation: http://pandas.pydata.org/pandas-docs/stable/user_guide/indexing.html#returning-a-view-versus-a-copy\n",
      "  \"\"\"Entry point for launching an IPython kernel.\n"
     ]
    },
    {
     "data": {
      "text/html": [
       "<div>\n",
       "<style scoped>\n",
       "    .dataframe tbody tr th:only-of-type {\n",
       "        vertical-align: middle;\n",
       "    }\n",
       "\n",
       "    .dataframe tbody tr th {\n",
       "        vertical-align: top;\n",
       "    }\n",
       "\n",
       "    .dataframe thead tr th {\n",
       "        text-align: left;\n",
       "    }\n",
       "</style>\n",
       "<table border=\"1\" class=\"dataframe\">\n",
       "  <thead>\n",
       "    <tr>\n",
       "      <th></th>\n",
       "      <th colspan=\"4\" halign=\"left\">Salary</th>\n",
       "      <th>Primary Department</th>\n",
       "      <th>MeanMulCount</th>\n",
       "    </tr>\n",
       "    <tr>\n",
       "      <th></th>\n",
       "      <th>count</th>\n",
       "      <th>mean</th>\n",
       "      <th>median</th>\n",
       "      <th>std</th>\n",
       "      <th></th>\n",
       "      <th></th>\n",
       "    </tr>\n",
       "  </thead>\n",
       "  <tbody>\n",
       "    <tr>\n",
       "      <td>30</td>\n",
       "      <td>6</td>\n",
       "      <td>76880.266667</td>\n",
       "      <td>71083.80</td>\n",
       "      <td>34847.991186</td>\n",
       "      <td>Business Online Programs</td>\n",
       "      <td>461281.60</td>\n",
       "    </tr>\n",
       "    <tr>\n",
       "      <td>19</td>\n",
       "      <td>6</td>\n",
       "      <td>116647.833333</td>\n",
       "      <td>109050.00</td>\n",
       "      <td>58876.148007</td>\n",
       "      <td>Applied Research Institute</td>\n",
       "      <td>699887.00</td>\n",
       "    </tr>\n",
       "    <tr>\n",
       "      <td>52</td>\n",
       "      <td>15</td>\n",
       "      <td>81036.752000</td>\n",
       "      <td>81858.28</td>\n",
       "      <td>30893.665017</td>\n",
       "      <td>Dance</td>\n",
       "      <td>1215551.28</td>\n",
       "    </tr>\n",
       "    <tr>\n",
       "      <td>72</td>\n",
       "      <td>13</td>\n",
       "      <td>119999.843077</td>\n",
       "      <td>104913.17</td>\n",
       "      <td>43181.149737</td>\n",
       "      <td>Geography &amp; Geographic InfoSci</td>\n",
       "      <td>1559997.96</td>\n",
       "    </tr>\n",
       "    <tr>\n",
       "      <td>121</td>\n",
       "      <td>2</td>\n",
       "      <td>50783.500000</td>\n",
       "      <td>50783.50</td>\n",
       "      <td>12959.145979</td>\n",
       "      <td>Russian,E European,Eurasn Ctr</td>\n",
       "      <td>101567.00</td>\n",
       "    </tr>\n",
       "  </tbody>\n",
       "</table>\n",
       "</div>"
      ],
      "text/plain": [
       "    Salary                                          \\\n",
       "     count           mean     median           std   \n",
       "30       6   76880.266667   71083.80  34847.991186   \n",
       "19       6  116647.833333  109050.00  58876.148007   \n",
       "52      15   81036.752000   81858.28  30893.665017   \n",
       "72      13  119999.843077  104913.17  43181.149737   \n",
       "121      2   50783.500000   50783.50  12959.145979   \n",
       "\n",
       "                 Primary Department MeanMulCount  \n",
       "                                                  \n",
       "30         Business Online Programs    461281.60  \n",
       "19       Applied Research Institute    699887.00  \n",
       "52                            Dance   1215551.28  \n",
       "72   Geography & Geographic InfoSci   1559997.96  \n",
       "121   Russian,E European,Eurasn Ctr    101567.00  "
      ]
     },
     "execution_count": 13,
     "metadata": {},
     "output_type": "execute_result"
    }
   ],
   "source": [
    "agg_df['MeanMulCount'] = agg_df[\"Salary\",'mean'] * agg_df[\"Salary\",'count']\n",
    "\n",
    "\n",
    "\n",
    "# Display 5 random rows to make sure it works:\n",
    "agg_df.sample(5)"
   ]
  },
  {
   "cell_type": "code",
   "execution_count": 14,
   "metadata": {
    "deletable": false,
    "nbgrader": {
     "cell_type": "code",
     "checksum": "a364a79abfffc0e72fe0b37f1e4c4012",
     "grade": false,
     "grade_id": "cell-6da6f358c0acaf48",
     "locked": false,
     "schema_version": 3,
     "solution": true,
     "task": false
    }
   },
   "outputs": [
    {
     "data": {
      "text/plain": [
       "358852459.81999993"
      ]
     },
     "execution_count": 14,
     "metadata": {},
     "output_type": "execute_result"
    }
   ],
   "source": [
    "# calculate the total sum of all of the values in the column you added\n",
    "total_money_needed_mean = agg_df['MeanMulCount'].sum()\n",
    "total_money_needed_mean\n"
   ]
  },
  {
   "cell_type": "code",
   "execution_count": 15,
   "metadata": {
    "deletable": false,
    "editable": false,
    "nbgrader": {
     "cell_type": "code",
     "checksum": "82d494a5b5c398b3225f159603673091",
     "grade": true,
     "grade_id": "cell-f199dd0452902f41",
     "locked": true,
     "points": 1,
     "schema_version": 3,
     "solution": false,
     "task": false
    }
   },
   "outputs": [
    {
     "name": "stdout",
     "output_type": "stream",
     "text": [
      "🎉 All tests passed! 🎉\n"
     ]
    }
   ],
   "source": [
    "## == TEST CASES for Puzzle 1.3 ==\n",
    "# - This read-only cell contains test cases for your previous cell.\n",
    "# - If this cell runs with a message (with the emoji showing), you PASSED all test cases!\n",
    "# - If this cell results in any errors, check your previous cell, make changes, and RE-RUN your code and then this cell.\n",
    "\n",
    "assert( abs(total_money_needed_mean - 358852459) < 1 ), \"Looks like your multiplication did not work properly!\"\n",
    "\n",
    "## == SUCCESS MESSAGE ==\n",
    "# You will only see this message (with the emoji showing) if you passed all test cases:\n",
    "tada = \"\\N{PARTY POPPER}\"\n",
    "print(f\"{tada} All tests passed! {tada}\")"
   ]
  },
  {
   "cell_type": "markdown",
   "metadata": {},
   "source": [
    "# 2. Estimations\n",
    "\n",
    "Great! Your boss is ready to go to the state with this number. Is this a good estimate of the amount of money she will need?\n",
    "\n",
    "Let's calculate the standard deviation for each department to find out.  Remember, SD measures the spread around the average.  The larger the SD, the more spread out the numbers are from the average.\n",
    "\n",
    "Add another column to your dataframe with the departmental data which holds the value of the standard deviation of the salaries for that department.  *(Hint: This may require you to re-group your original `df`)*"
   ]
  },
  {
   "cell_type": "code",
   "execution_count": 16,
   "metadata": {
    "deletable": false,
    "nbgrader": {
     "cell_type": "code",
     "checksum": "fbf16695acaebfe92f608b5121644035",
     "grade": false,
     "grade_id": "cell-dca5763613817466",
     "locked": false,
     "schema_version": 3,
     "solution": true,
     "task": false
    }
   },
   "outputs": [
    {
     "name": "stderr",
     "output_type": "stream",
     "text": [
      "C:\\Users\\Isaia\\Anaconda3\\lib\\site-packages\\ipykernel_launcher.py:3: SettingWithCopyWarning: \n",
      "A value is trying to be set on a copy of a slice from a DataFrame.\n",
      "Try using .loc[row_indexer,col_indexer] = value instead\n",
      "\n",
      "See the caveats in the documentation: http://pandas.pydata.org/pandas-docs/stable/user_guide/indexing.html#returning-a-view-versus-a-copy\n",
      "  This is separate from the ipykernel package so we can avoid doing imports until\n"
     ]
    },
    {
     "data": {
      "text/html": [
       "<div>\n",
       "<style scoped>\n",
       "    .dataframe tbody tr th:only-of-type {\n",
       "        vertical-align: middle;\n",
       "    }\n",
       "\n",
       "    .dataframe tbody tr th {\n",
       "        vertical-align: top;\n",
       "    }\n",
       "\n",
       "    .dataframe thead tr th {\n",
       "        text-align: left;\n",
       "    }\n",
       "</style>\n",
       "<table border=\"1\" class=\"dataframe\">\n",
       "  <thead>\n",
       "    <tr>\n",
       "      <th></th>\n",
       "      <th colspan=\"4\" halign=\"left\">Salary</th>\n",
       "      <th>Primary Department</th>\n",
       "      <th>MeanMulCount</th>\n",
       "      <th>Standard Deviation</th>\n",
       "    </tr>\n",
       "    <tr>\n",
       "      <th></th>\n",
       "      <th>count</th>\n",
       "      <th>mean</th>\n",
       "      <th>median</th>\n",
       "      <th>std</th>\n",
       "      <th></th>\n",
       "      <th></th>\n",
       "      <th></th>\n",
       "    </tr>\n",
       "  </thead>\n",
       "  <tbody>\n",
       "    <tr>\n",
       "      <td>114</td>\n",
       "      <td>11</td>\n",
       "      <td>79529.541818</td>\n",
       "      <td>75210.000</td>\n",
       "      <td>25850.596461</td>\n",
       "      <td>Philosophy</td>\n",
       "      <td>874824.96</td>\n",
       "      <td>25850.596461</td>\n",
       "    </tr>\n",
       "    <tr>\n",
       "      <td>1</td>\n",
       "      <td>2</td>\n",
       "      <td>58051.500000</td>\n",
       "      <td>58051.500</td>\n",
       "      <td>30085.272219</td>\n",
       "      <td>ADM Institure for PHL</td>\n",
       "      <td>116103.00</td>\n",
       "      <td>30085.272219</td>\n",
       "    </tr>\n",
       "    <tr>\n",
       "      <td>123</td>\n",
       "      <td>6</td>\n",
       "      <td>58492.971667</td>\n",
       "      <td>56497.000</td>\n",
       "      <td>10352.769898</td>\n",
       "      <td>Sch Lit, Cultures, Ling Adm</td>\n",
       "      <td>350957.83</td>\n",
       "      <td>10352.769898</td>\n",
       "    </tr>\n",
       "    <tr>\n",
       "      <td>84</td>\n",
       "      <td>2</td>\n",
       "      <td>53106.600000</td>\n",
       "      <td>53106.600</td>\n",
       "      <td>2677.671959</td>\n",
       "      <td>IPM Content Information</td>\n",
       "      <td>106213.20</td>\n",
       "      <td>2677.671959</td>\n",
       "    </tr>\n",
       "    <tr>\n",
       "      <td>25</td>\n",
       "      <td>14</td>\n",
       "      <td>116513.786429</td>\n",
       "      <td>102702.995</td>\n",
       "      <td>52122.432218</td>\n",
       "      <td>Biochemistry</td>\n",
       "      <td>1631193.01</td>\n",
       "      <td>52122.432218</td>\n",
       "    </tr>\n",
       "  </tbody>\n",
       "</table>\n",
       "</div>"
      ],
      "text/plain": [
       "    Salary                                           \\\n",
       "     count           mean      median           std   \n",
       "114     11   79529.541818   75210.000  25850.596461   \n",
       "1        2   58051.500000   58051.500  30085.272219   \n",
       "123      6   58492.971667   56497.000  10352.769898   \n",
       "84       2   53106.600000   53106.600   2677.671959   \n",
       "25      14  116513.786429  102702.995  52122.432218   \n",
       "\n",
       "              Primary Department MeanMulCount Standard Deviation  \n",
       "                                                                  \n",
       "114                   Philosophy    874824.96       25850.596461  \n",
       "1          ADM Institure for PHL    116103.00       30085.272219  \n",
       "123  Sch Lit, Cultures, Ling Adm    350957.83       10352.769898  \n",
       "84       IPM Content Information    106213.20        2677.671959  \n",
       "25                  Biochemistry   1631193.01       52122.432218  "
      ]
     },
     "execution_count": 16,
     "metadata": {},
     "output_type": "execute_result"
    }
   ],
   "source": [
    "# add that column here!\n",
    "group = df.groupby(\"Primary Department\")\n",
    "agg_df[\"Standard Deviation\"]= agg_df[\"Salary\",\"std\"]\n",
    "# Display 5 random rows to make sure it works:\n",
    "agg_df.sample(5)\n"
   ]
  },
  {
   "cell_type": "markdown",
   "metadata": {},
   "source": [
    "Are there any departments for which your boss' way of approximating the total salary would be fairly accurate? Are there deparments where it would not be an okay approximation?  *Hint*: It might be helpful to find the largest standard deviation!"
   ]
  },
  {
   "cell_type": "code",
   "execution_count": 17,
   "metadata": {
    "deletable": false,
    "nbgrader": {
     "cell_type": "code",
     "checksum": "2fdb936f99485f2c4244bfd1a6eb4b08",
     "grade": false,
     "grade_id": "cell-8d360389fd08fc8f",
     "locked": false,
     "schema_version": 3,
     "solution": true,
     "task": false
    }
   },
   "outputs": [
    {
     "data": {
      "text/html": [
       "<div>\n",
       "<style scoped>\n",
       "    .dataframe tbody tr th:only-of-type {\n",
       "        vertical-align: middle;\n",
       "    }\n",
       "\n",
       "    .dataframe tbody tr th {\n",
       "        vertical-align: top;\n",
       "    }\n",
       "\n",
       "    .dataframe thead tr th {\n",
       "        text-align: left;\n",
       "    }\n",
       "</style>\n",
       "<table border=\"1\" class=\"dataframe\">\n",
       "  <thead>\n",
       "    <tr>\n",
       "      <th></th>\n",
       "      <th colspan=\"4\" halign=\"left\">Salary</th>\n",
       "      <th>Primary Department</th>\n",
       "      <th>MeanMulCount</th>\n",
       "      <th>Standard Deviation</th>\n",
       "    </tr>\n",
       "    <tr>\n",
       "      <th></th>\n",
       "      <th>count</th>\n",
       "      <th>mean</th>\n",
       "      <th>median</th>\n",
       "      <th>std</th>\n",
       "      <th></th>\n",
       "      <th></th>\n",
       "      <th></th>\n",
       "    </tr>\n",
       "  </thead>\n",
       "  <tbody>\n",
       "    <tr>\n",
       "      <td>50</td>\n",
       "      <td>2</td>\n",
       "      <td>61000.000000</td>\n",
       "      <td>61000.00</td>\n",
       "      <td>1414.213562</td>\n",
       "      <td>Ctr Wounded Veterans Higher Ed</td>\n",
       "      <td>122000.00</td>\n",
       "      <td>1414.213562</td>\n",
       "    </tr>\n",
       "    <tr>\n",
       "      <td>39</td>\n",
       "      <td>3</td>\n",
       "      <td>42556.296667</td>\n",
       "      <td>42032.00</td>\n",
       "      <td>1673.229914</td>\n",
       "      <td>Cline Ctr for Adv Social Rsrch</td>\n",
       "      <td>127668.89</td>\n",
       "      <td>1673.229914</td>\n",
       "    </tr>\n",
       "    <tr>\n",
       "      <td>84</td>\n",
       "      <td>2</td>\n",
       "      <td>53106.600000</td>\n",
       "      <td>53106.60</td>\n",
       "      <td>2677.671959</td>\n",
       "      <td>IPM Content Information</td>\n",
       "      <td>106213.20</td>\n",
       "      <td>2677.671959</td>\n",
       "    </tr>\n",
       "    <tr>\n",
       "      <td>97</td>\n",
       "      <td>4</td>\n",
       "      <td>48455.655000</td>\n",
       "      <td>47363.51</td>\n",
       "      <td>4119.849465</td>\n",
       "      <td>Latin American &amp; Carib Studies</td>\n",
       "      <td>193822.62</td>\n",
       "      <td>4119.849465</td>\n",
       "    </tr>\n",
       "    <tr>\n",
       "      <td>88</td>\n",
       "      <td>4</td>\n",
       "      <td>54517.997500</td>\n",
       "      <td>55256.60</td>\n",
       "      <td>6997.587777</td>\n",
       "      <td>IPM Development</td>\n",
       "      <td>218071.99</td>\n",
       "      <td>6997.587777</td>\n",
       "    </tr>\n",
       "  </tbody>\n",
       "</table>\n",
       "</div>"
      ],
      "text/plain": [
       "   Salary                                       \\\n",
       "    count          mean    median          std   \n",
       "50      2  61000.000000  61000.00  1414.213562   \n",
       "39      3  42556.296667  42032.00  1673.229914   \n",
       "84      2  53106.600000  53106.60  2677.671959   \n",
       "97      4  48455.655000  47363.51  4119.849465   \n",
       "88      4  54517.997500  55256.60  6997.587777   \n",
       "\n",
       "                Primary Department MeanMulCount Standard Deviation  \n",
       "                                                                    \n",
       "50  Ctr Wounded Veterans Higher Ed    122000.00        1414.213562  \n",
       "39  Cline Ctr for Adv Social Rsrch    127668.89        1673.229914  \n",
       "84         IPM Content Information    106213.20        2677.671959  \n",
       "97  Latin American & Carib Studies    193822.62        4119.849465  \n",
       "88                 IPM Development    218071.99        6997.587777  "
      ]
     },
     "execution_count": 17,
     "metadata": {},
     "output_type": "execute_result"
    }
   ],
   "source": [
    "agg_df.nsmallest(5,\"Standard Deviation\")"
   ]
  },
  {
   "cell_type": "markdown",
   "metadata": {},
   "source": [
    "## EDIT THIS CELL:\n",
    "\n",
    "- One department where it would be an okay approximation is: Ctr Wounded Veterans Higher Ed\n",
    "\n",
    "- One department where it would not be an okay approximation is:Entomology"
   ]
  },
  {
   "cell_type": "markdown",
   "metadata": {},
   "source": [
    "Well, I believe you that the mean salary isn't always a good approximation, but your boss doesn't. I think she is more of a visual learner. To help prove our point, let's make a histogram of the salaries in the computer science department."
   ]
  },
  {
   "cell_type": "markdown",
   "metadata": {},
   "source": [
    "## 2.1 Histograms\n",
    "Create a histogram of the salaries within the computer science department. Pandas has a nice function that helps you accomplish this: https://pandas.pydata.org/pandas-docs/stable/reference/api/pandas.DataFrame.hist.html\n",
    "\n",
    "Hint: in order to apply this function, you will need a DataFrame `cs_salary_df` with just the data for Computer Science professors.\n",
    "\n",
    "Play around with putting different values as the *bin* parameter to the function. Which value would you select to present the data to your boss?  Remember, there is no right or wrong number of bins.  You want to pick an amount that allows you to see the overall shape of the histogram."
   ]
  },
  {
   "cell_type": "code",
   "execution_count": 19,
   "metadata": {
    "deletable": false,
    "nbgrader": {
     "cell_type": "code",
     "checksum": "7777e465b14968d1f4327a70d6978c20",
     "grade": false,
     "grade_id": "cell-12e1d9777e55620b",
     "locked": false,
     "schema_version": 3,
     "solution": true,
     "task": false
    }
   },
   "outputs": [
    {
     "data": {
      "text/plain": [
       "<matplotlib.axes._subplots.AxesSubplot at 0x17f27c8c7c8>"
      ]
     },
     "execution_count": 19,
     "metadata": {},
     "output_type": "execute_result"
    },
    {
     "data": {
      "image/png": "[encoded data removed]",
      "text/plain": [
       "<Figure size 432x288 with 1 Axes>"
      ]
     },
     "metadata": {
      "needs_background": "light"
     },
     "output_type": "display_data"
    }
   ],
   "source": [
    "cs_salary_df= df[df[\"Primary Department\"]==\"Computer Science\"]\n",
    "# ...and then create your histogram:\n",
    "cs_salary_df[\"Salary\"].hist()\n"
   ]
  },
  {
   "cell_type": "code",
   "execution_count": 20,
   "metadata": {
    "deletable": false,
    "editable": false,
    "nbgrader": {
     "cell_type": "code",
     "checksum": "0be137870b79f34f989d2c69fdf98113",
     "grade": true,
     "grade_id": "cell-5ad401ab98278a69",
     "locked": true,
     "points": 1,
     "schema_version": 3,
     "solution": false,
     "task": false
    }
   },
   "outputs": [
    {
     "name": "stdout",
     "output_type": "stream",
     "text": [
      "🎉 All tests passed! 🎉\n"
     ]
    }
   ],
   "source": [
    "## == TEST CASES for Puzzle 2.1 ==\n",
    "# - This read-only cell contains test cases for your previous cell.\n",
    "# - If this cell runs with a message (with the emoji showing), you PASSED all test cases!\n",
    "# - If this cell results in any errors, check your previous cell, make changes, and RE-RUN your code and then this cell.\n",
    "assert(cs_salary_df[\"Salary\"].sum() == 13323600), \"You are not showing the correct data in the histogram\"\n",
    "\n",
    "## == SUCCESS MESSAGE ==\n",
    "# You will only see this message (with the emoji showing) if you passed all test cases:\n",
    "tada = \"\\N{PARTY POPPER}\"\n",
    "print(f\"{tada} All tests passed! {tada}\")"
   ]
  },
  {
   "cell_type": "markdown",
   "metadata": {},
   "source": [
    "## 2.2 Boxplots\n",
    "\n",
    "Ok, you've convinced her. Your boss no longer thinks that the average is a good approximation for each department. To explain to the state why this isn't the case, she wants you to create a plot that shows the distribution of the salaries for each department that is relatively compact (i.e., not 100 tiny histograms). A collection of box plots would work quite nicely!  This allows us to see different quartiles and if the departments have outliers!"
   ]
  },
  {
   "cell_type": "markdown",
   "metadata": {},
   "source": [
    "But first, let's just make one box plot. Again, pandas has a nifty function that can help you do this: https://pandas.pydata.org/pandas-docs/stable/reference/api/pandas.DataFrame.boxplot.html\n",
    "\n",
    "Make a box plot for the computer science department salaries."
   ]
  },
  {
   "cell_type": "code",
   "execution_count": 21,
   "metadata": {
    "deletable": false,
    "nbgrader": {
     "cell_type": "code",
     "checksum": "c4c98626c6763183384c4e7db0f983cf",
     "grade": false,
     "grade_id": "cell-bc5e651b041152a9",
     "locked": false,
     "schema_version": 3,
     "solution": true,
     "task": false
    }
   },
   "outputs": [
    {
     "data": {
      "text/plain": [
       "<matplotlib.axes._subplots.AxesSubplot at 0x17f27d31588>"
      ]
     },
     "execution_count": 21,
     "metadata": {},
     "output_type": "execute_result"
    },
    {
     "data": {
      "image/png": "[encoded data removed]",
      "text/plain": [
       "<Figure size 432x288 with 1 Axes>"
      ]
     },
     "metadata": {
      "needs_background": "light"
     },
     "output_type": "display_data"
    }
   ],
   "source": [
    "# Create your box plot of the CS salaries:\n",
    "\n",
    "cs_salary_df.boxplot('Salary', vert=False)"
   ]
  },
  {
   "cell_type": "markdown",
   "metadata": {},
   "source": [
    "## 2.3 New Estimating Method\n",
    "\n",
    "Your boss notices some outliers in your boxplot and wants to try another estimation strategy to account for them. She has heard that the median is less likely to be distorted by extreme data points and wants to try using that for salary estimation instead of the mean.\n",
    "\n",
    "Just like with the mean estimator, she wants you to **add a column** to the department-grouped DataFrame that is equal to the **median** salary of that department multiplied by the number of people in that department. She wants you to provide her again with this table and the sum of all of the values in this column."
   ]
  },
  {
   "cell_type": "code",
   "execution_count": 22,
   "metadata": {
    "deletable": false,
    "nbgrader": {
     "cell_type": "code",
     "checksum": "1cc45640043bcdd8bb6c277453d77f0e",
     "grade": false,
     "grade_id": "cell-ce6f91de7935befc",
     "locked": false,
     "schema_version": 3,
     "solution": true,
     "task": false
    }
   },
   "outputs": [
    {
     "name": "stderr",
     "output_type": "stream",
     "text": [
      "C:\\Users\\Isaia\\Anaconda3\\lib\\site-packages\\ipykernel_launcher.py:1: SettingWithCopyWarning: \n",
      "A value is trying to be set on a copy of a slice from a DataFrame.\n",
      "Try using .loc[row_indexer,col_indexer] = value instead\n",
      "\n",
      "See the caveats in the documentation: http://pandas.pydata.org/pandas-docs/stable/user_guide/indexing.html#returning-a-view-versus-a-copy\n",
      "  \"\"\"Entry point for launching an IPython kernel.\n"
     ]
    },
    {
     "data": {
      "text/html": [
       "<div>\n",
       "<style scoped>\n",
       "    .dataframe tbody tr th:only-of-type {\n",
       "        vertical-align: middle;\n",
       "    }\n",
       "\n",
       "    .dataframe tbody tr th {\n",
       "        vertical-align: top;\n",
       "    }\n",
       "\n",
       "    .dataframe thead tr th {\n",
       "        text-align: left;\n",
       "    }\n",
       "</style>\n",
       "<table border=\"1\" class=\"dataframe\">\n",
       "  <thead>\n",
       "    <tr>\n",
       "      <th></th>\n",
       "      <th colspan=\"4\" halign=\"left\">Salary</th>\n",
       "      <th>Primary Department</th>\n",
       "      <th>MeanMulCount</th>\n",
       "      <th>Standard Deviation</th>\n",
       "      <th>MedianMulCount</th>\n",
       "    </tr>\n",
       "    <tr>\n",
       "      <th></th>\n",
       "      <th>count</th>\n",
       "      <th>mean</th>\n",
       "      <th>median</th>\n",
       "      <th>std</th>\n",
       "      <th></th>\n",
       "      <th></th>\n",
       "      <th></th>\n",
       "      <th></th>\n",
       "    </tr>\n",
       "  </thead>\n",
       "  <tbody>\n",
       "    <tr>\n",
       "      <td>132</td>\n",
       "      <td>18</td>\n",
       "      <td>91466.281111</td>\n",
       "      <td>85770.5</td>\n",
       "      <td>29052.344435</td>\n",
       "      <td>Speech &amp; Hearing Science</td>\n",
       "      <td>1646393.06</td>\n",
       "      <td>29052.344435</td>\n",
       "      <td>1543869.0</td>\n",
       "    </tr>\n",
       "    <tr>\n",
       "      <td>29</td>\n",
       "      <td>10</td>\n",
       "      <td>84958.833000</td>\n",
       "      <td>80950.8</td>\n",
       "      <td>18904.106996</td>\n",
       "      <td>Business IT</td>\n",
       "      <td>849588.33</td>\n",
       "      <td>18904.106996</td>\n",
       "      <td>809508.0</td>\n",
       "    </tr>\n",
       "    <tr>\n",
       "      <td>35</td>\n",
       "      <td>26</td>\n",
       "      <td>114500.126538</td>\n",
       "      <td>105770.0</td>\n",
       "      <td>44972.050401</td>\n",
       "      <td>Chemical &amp; Biomolecular Engr</td>\n",
       "      <td>2977003.29</td>\n",
       "      <td>44972.050401</td>\n",
       "      <td>2750020.0</td>\n",
       "    </tr>\n",
       "    <tr>\n",
       "      <td>131</td>\n",
       "      <td>26</td>\n",
       "      <td>69311.384615</td>\n",
       "      <td>59831.0</td>\n",
       "      <td>29619.620817</td>\n",
       "      <td>Special Education</td>\n",
       "      <td>1802096.00</td>\n",
       "      <td>29619.620817</td>\n",
       "      <td>1555606.0</td>\n",
       "    </tr>\n",
       "    <tr>\n",
       "      <td>50</td>\n",
       "      <td>2</td>\n",
       "      <td>61000.000000</td>\n",
       "      <td>61000.0</td>\n",
       "      <td>1414.213562</td>\n",
       "      <td>Ctr Wounded Veterans Higher Ed</td>\n",
       "      <td>122000.00</td>\n",
       "      <td>1414.213562</td>\n",
       "      <td>122000.0</td>\n",
       "    </tr>\n",
       "  </tbody>\n",
       "</table>\n",
       "</div>"
      ],
      "text/plain": [
       "    Salary                                         \\\n",
       "     count           mean    median           std   \n",
       "132     18   91466.281111   85770.5  29052.344435   \n",
       "29      10   84958.833000   80950.8  18904.106996   \n",
       "35      26  114500.126538  105770.0  44972.050401   \n",
       "131     26   69311.384615   59831.0  29619.620817   \n",
       "50       2   61000.000000   61000.0   1414.213562   \n",
       "\n",
       "                 Primary Department MeanMulCount Standard Deviation  \\\n",
       "                                                                      \n",
       "132        Speech & Hearing Science   1646393.06       29052.344435   \n",
       "29                      Business IT    849588.33       18904.106996   \n",
       "35     Chemical & Biomolecular Engr   2977003.29       44972.050401   \n",
       "131               Special Education   1802096.00       29619.620817   \n",
       "50   Ctr Wounded Veterans Higher Ed    122000.00        1414.213562   \n",
       "\n",
       "    MedianMulCount  \n",
       "                    \n",
       "132      1543869.0  \n",
       "29        809508.0  \n",
       "35       2750020.0  \n",
       "131      1555606.0  \n",
       "50        122000.0  "
      ]
     },
     "execution_count": 22,
     "metadata": {},
     "output_type": "execute_result"
    }
   ],
   "source": [
    "agg_df['MedianMulCount'] = agg_df['Salary','median'] * agg_df['Salary','count']\n",
    "\n",
    "\n",
    "\n",
    "# Display 5 random rows to make sure it works:\n",
    "agg_df.sample(5)"
   ]
  },
  {
   "cell_type": "code",
   "execution_count": 23,
   "metadata": {
    "deletable": false,
    "nbgrader": {
     "cell_type": "code",
     "checksum": "bdf77dae214ab27bc103eca987700b2a",
     "grade": false,
     "grade_id": "cell-5be4d8ec77de1777",
     "locked": false,
     "schema_version": 3,
     "solution": true,
     "task": false
    }
   },
   "outputs": [
    {
     "data": {
      "text/plain": [
       "332199238.08000004"
      ]
     },
     "execution_count": 23,
     "metadata": {},
     "output_type": "execute_result"
    }
   ],
   "source": [
    "# calculate the total sum of all of the values in the column you added\n",
    "total_money_needed_med = agg_df[\"MedianMulCount\"].sum()\n",
    "total_money_needed_med\n",
    "\n"
   ]
  },
  {
   "cell_type": "code",
   "execution_count": 24,
   "metadata": {},
   "outputs": [
    {
     "name": "stdout",
     "output_type": "stream",
     "text": [
      "🎉 All tests passed! 🎉\n"
     ]
    }
   ],
   "source": [
    "## == TEST CASES for Puzzle 2.3 ==\n",
    "# - This read-only cell contains test cases for your previous cell.\n",
    "# - If this cell runs with a message (with the emoji showing), you PASSED all test cases!\n",
    "# - If this cell results in any errors, check your previous cell, make changes, and RE-RUN your code and then this cell.\n",
    "\n",
    "assert( abs(total_money_needed_med - 332199238) < 1 ), \"Looks like your multiplication did not work properly!\"\n",
    "\n",
    "## == SUCCESS MESSAGE ==\n",
    "# You will only see this message (with the emoji showing) if you passed all test cases:\n",
    "tada = \"\\N{PARTY POPPER}\"\n",
    "print(f\"{tada} All tests passed! {tada}\")"
   ]
  },
  {
   "cell_type": "markdown",
   "metadata": {},
   "source": [
    "# 3. Confronting your boss\n",
    "After spending days creating plots, you finally decide to tell your boss that there is an easier way to find out how much money you should request from the state to pay university salaries. Find the exact total amount of money that will be needed to pay everyone in the dataset."
   ]
  },
  {
   "cell_type": "code",
   "execution_count": 25,
   "metadata": {
    "deletable": false,
    "nbgrader": {
     "cell_type": "code",
     "checksum": "6d9b89c66beb9c12847c318f875b00e8",
     "grade": false,
     "grade_id": "cell-674a9d3767b37b18",
     "locked": false,
     "schema_version": 3,
     "solution": true,
     "task": false
    }
   },
   "outputs": [
    {
     "data": {
      "text/plain": [
       "358852459.82"
      ]
     },
     "execution_count": 25,
     "metadata": {},
     "output_type": "execute_result"
    }
   ],
   "source": [
    "# your code goes here!\n",
    "total_money = df[\"Salary\"].sum()\n",
    "total_money\n"
   ]
  },
  {
   "cell_type": "code",
   "execution_count": 26,
   "metadata": {
    "deletable": false,
    "editable": false,
    "nbgrader": {
     "cell_type": "code",
     "checksum": "3efa677c9c2e9073180f93758d90c947",
     "grade": true,
     "grade_id": "cell-a52dae832d7423fb",
     "locked": true,
     "points": 1,
     "schema_version": 3,
     "solution": false,
     "task": false
    }
   },
   "outputs": [
    {
     "name": "stdout",
     "output_type": "stream",
     "text": [
      "🎉 All tests passed! 🎉\n"
     ]
    }
   ],
   "source": [
    "## == TEST CASES for Puzzle 3 ==\n",
    "# - This read-only cell contains test cases for your previous cell.\n",
    "# - If this cell runs with a message (with the emoji showing), you PASSED all test cases!\n",
    "# - If this cell results in any errors, check your previous cell, make changes, and RE-RUN your code and then this cell.\n",
    "\n",
    "assert(abs(total_money - 358852459) < 1), \"Are you sure the total is correct?\"\n",
    "\n",
    "## == SUCCESS MESSAGE ==\n",
    "# You will only see this message (with the emoji showing) if you passed all test cases:\n",
    "tada = \"\\N{PARTY POPPER}\"\n",
    "print(f\"{tada} All tests passed! {tada}\")"
   ]
  },
  {
   "cell_type": "markdown",
   "metadata": {},
   "source": [
    "# 4. Estimation Error\n",
    "Your boss is very pleased with your data science knowledge! She would like to see by how much your original estimates were off. Find the exact error (difference) of the mean estimation method and the exact amount needed and then repeat for the median estimate method."
   ]
  },
  {
   "cell_type": "code",
   "execution_count": 27,
   "metadata": {
    "deletable": false,
    "nbgrader": {
     "cell_type": "code",
     "checksum": "8ab1317854e2f147397500ca31e096ab",
     "grade": false,
     "grade_id": "cell-69ce1c4a9f719004",
     "locked": false,
     "schema_version": 3,
     "solution": true,
     "task": false
    }
   },
   "outputs": [
    {
     "data": {
      "text/plain": [
       "-5.960464477539063e-08"
      ]
     },
     "execution_count": 27,
     "metadata": {},
     "output_type": "execute_result"
    }
   ],
   "source": [
    "#calculate the error of the mean estimation method\n",
    "mean_estimate_error = total_money_needed_mean - total_money\n",
    "mean_estimate_error\n",
    "\n"
   ]
  },
  {
   "cell_type": "code",
   "execution_count": 33,
   "metadata": {
    "deletable": false,
    "nbgrader": {
     "cell_type": "code",
     "checksum": "f19e641f256454e2908b3d13ad31a088",
     "grade": false,
     "grade_id": "cell-e593b6cc6e5b2cb9",
     "locked": false,
     "schema_version": 3,
     "solution": true,
     "task": false
    }
   },
   "outputs": [
    {
     "data": {
      "text/plain": [
       "-26653221.73999995"
      ]
     },
     "execution_count": 33,
     "metadata": {},
     "output_type": "execute_result"
    }
   ],
   "source": [
    "#calculate the error of the mean estimation method\n",
    "med_estimate_error = total_money_needed_med - total_money\n",
    "med_estimate_error\n",
    "\n"
   ]
  },
  {
   "cell_type": "code",
   "execution_count": 34,
   "metadata": {},
   "outputs": [
    {
     "name": "stdout",
     "output_type": "stream",
     "text": [
      "🎉 All tests passed! 🎉\n"
     ]
    }
   ],
   "source": [
    "## == TEST CASES for Puzzle 4 ==\n",
    "# - This read-only cell contains test cases for your previous cell.\n",
    "# - If this cell runs with a message (with the emoji showing), you PASSED all test cases!\n",
    "# - If this cell results in any errors, check your previous cell, make changes, and RE-RUN your code and then this cell.\n",
    "\n",
    "assert(abs(mean_estimate_error - (-5.9605e-08)) < 1.0e-07), \"Are you sure the error for the mean estimate is correct?\"\n",
    "assert(abs(med_estimate_error - (-26653221)) < 1), \"Are you sure the error for the median estimate is correct?\"\n",
    "\n",
    "## == SUCCESS MESSAGE ==\n",
    "# You will only see this message (with the emoji showing) if you passed all test cases:\n",
    "tada = \"\\N{PARTY POPPER}\"\n",
    "print(f\"{tada} All tests passed! {tada}\")"
   ]
  },
  {
   "cell_type": "markdown",
   "metadata": {},
   "source": [
    "## EDIT THIS CELL:\n",
    "\n",
    "- The method that resulted with the least error was:\n",
    "- With an error of:"
   ]
  },
  {
   "cell_type": "markdown",
   "metadata": {},
   "source": [
    "## 4. Your Department\n",
    "\n",
    "You're awesome!  Now find something interesting about your home department... maybe a box plot or a scatter plot, do whatever interests you, it does not have to be complex (but totally can be!)"
   ]
  },
  {
   "cell_type": "code",
   "execution_count": 44,
   "metadata": {
    "deletable": false,
    "nbgrader": {
     "cell_type": "code",
     "checksum": "3d338deb6ac710033314b7b5fdd4425c",
     "grade": true,
     "grade_id": "cell-539333ff16c3dfff",
     "locked": false,
     "points": 1,
     "schema_version": 3,
     "solution": true,
     "task": false
    }
   },
   "outputs": [
    {
     "data": {
      "text/plain": [
       "<matplotlib.axes._subplots.AxesSubplot at 0x17f28031f08>"
      ]
     },
     "execution_count": 44,
     "metadata": {},
     "output_type": "execute_result"
    },
    {
     "data": {
      "image/png": "[encoded data removed]",
      "text/plain": [
       "<Figure size 432x288 with 1 Axes>"
      ]
     },
     "metadata": {
      "needs_background": "light"
     },
     "output_type": "display_data"
    }
   ],
   "source": [
    "df_e = df[df[\"Primary Department\"]==\"Economics\"]#creates dataset with just members of the Econ Department \n",
    "df_e.boxplot('Salary', vert=False) #box plot based on salaries owned"
   ]
  },
  {
   "cell_type": "markdown",
   "metadata": {},
   "source": [
    "## Submit Your Work"
   ]
  },
  {
   "cell_type": "markdown",
   "metadata": {},
   "source": [
    "You're almost done -- congratulations! 🎉\n",
    "\n",
    "You need to do a few more things:\n",
    "\n",
    "1. Save your work.  To do this, create a **notebook checkpoint** by using the menu within the notebook to go **File -> Save and Checkpoint**\n",
    "\n",
    "\n",
    "2. After you have saved and checkpointed, exit this notebook by going to **File -> Close and Halt**\n",
    "\n",
    "\n",
    "3. Once you have closed your notebook select **Quit** on the **Jupyter main page** to stop the Jupyter server\n",
    "\n",
    "\n",
    "4. Return to the Data Science Discovery page on how to use git to turn this notebook into the course!"
   ]
  }
 ],
 "metadata": {
  "kernelspec": {
   "display_name": "Python 3",
   "language": "python",
   "name": "python3"
  },
  "language_info": {
   "codemirror_mode": {
    "name": "ipython",
    "version": 3
   },
   "file_extension": ".py",
   "mimetype": "text/x-python",
   "name": "python",
   "nbconvert_exporter": "python",
   "pygments_lexer": "ipython3",
   "version": "3.7.4"
  }
 },
 "nbformat": 4,
 "nbformat_minor": 2
}
