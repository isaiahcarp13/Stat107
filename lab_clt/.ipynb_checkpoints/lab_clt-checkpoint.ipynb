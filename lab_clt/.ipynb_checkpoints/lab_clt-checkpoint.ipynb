{
 "cells": [
  {
   "cell_type": "markdown",
   "metadata": {
    "deletable": false,
    "editable": false,
    "nbgrader": {
     "cell_type": "markdown",
     "checksum": "867c0e5f5900ea74ba1ae4c93d249681",
     "grade": false,
     "grade_id": "cell-817393b4b625d714",
     "locked": true,
     "schema_version": 3,
     "solution": false,
     "task": false
    }
   },
   "source": [
    "# Central Limit Theorem (CLT) !"
   ]
  },
  {
   "cell_type": "markdown",
   "metadata": {
    "deletable": false,
    "editable": false,
    "nbgrader": {
     "cell_type": "markdown",
     "checksum": "6d2419243a32cff68cc12e895702d5c6",
     "grade": false,
     "grade_id": "cell-31012a832251aa31",
     "locked": true,
     "schema_version": 3,
     "solution": false,
     "task": false
    }
   },
   "source": [
    "Welcome! In this lab, we will be exploring the Central Limit Theorem (CLT)! Although this concept was first developed by Abraham de Moivre in 1733, it wasn’t formally named until 1930, when noted Hungarian mathematician George Polya officially dubbed it the Central Limit Theorem.\n",
    "\n",
    "## Review: What is the Central Limit Theorem?\n",
    "Basically, the Central Limit Theorem says:  \n",
    "\n",
    "If we repeatedly take independent random samples of size n from any population, then when n is large, the distribution of the sample means will approach a normal distribution.\n",
    "\n",
    "Wow! This works for any population, even non-normal populations.  The CLT is a very useful theorem that is the foundation for many data science procedures. We'll see a lot of these procedures in the upcoming weeks in Data Science DISCOVERY!\n",
    "\n",
    "Today, we will be working with a \"song_data\" dataset that has around 19,000 songs which have multiple attributes. This lab will help demonstrate how the Central Limit Theorem works! Below are the 15 attributes of the \"song\" dataset. \n",
    "\n",
    "The Attributes:\n",
    "\n",
    "- `song_name`: contains the name of the song\n",
    "- `song_popularity`: how popular a song is\n",
    "- `song_duration_ms`: length of the song\n",
    "- `acousticness`: the higher the value, the more acoustic the song is\n",
    "- `danceability`: the higher the value, the easier it is to dance to this song\n",
    "- `energy`: the energy of a song, the higher the value, the more energetic\n",
    "- `instrumentalness`: the higher the value, the less vocals there are\n",
    "- `key`: key the track is in\n",
    "- `liveness`: the higher the value, the more of an audience presence there is\n",
    "- `loudness`: the higher the value, the louder the song (in dB)\n",
    "- `audiomode`: represents the modality of the track: major is represented by 1 and minor is represented by 0\n",
    "- `speechiness`: the higher the value, the more presence of spoken words\n",
    "- `tempo`: the overall estimated tempo of the song\n",
    "- `time_signature`: an estimated overall time signature of a track\n",
    "- `audio_valence`: the higher the value, the more positive it is"
   ]
  },
  {
   "cell_type": "markdown",
   "metadata": {
    "deletable": false,
    "editable": false,
    "nbgrader": {
     "cell_type": "markdown",
     "checksum": "107204faf3fa8dcdaf6dd89f4f9b0e8f",
     "grade": false,
     "grade_id": "cell-5cc8b31cab6fa600",
     "locked": true,
     "schema_version": 3,
     "solution": false,
     "task": false
    }
   },
   "source": [
    "# 0. Import the Dataset\n",
    "\n",
    "In the same folder as this notebook find the dataset `song_data.csv` that is provided. You know what to do to import the libraries and read the data! :)"
   ]
  },
  {
   "cell_type": "code",
   "execution_count": 20,
   "metadata": {
    "deletable": false,
    "nbgrader": {
     "cell_type": "code",
     "checksum": "6edb99cb6682ee59db545dedc8d2e771",
     "grade": false,
     "grade_id": "cell-615783f5a93483b3",
     "locked": false,
     "schema_version": 3,
     "solution": true,
     "task": false
    }
   },
   "outputs": [
    {
     "data": {
      "text/html": [
       "<div>\n",
       "<style scoped>\n",
       "    .dataframe tbody tr th:only-of-type {\n",
       "        vertical-align: middle;\n",
       "    }\n",
       "\n",
       "    .dataframe tbody tr th {\n",
       "        vertical-align: top;\n",
       "    }\n",
       "\n",
       "    .dataframe thead th {\n",
       "        text-align: right;\n",
       "    }\n",
       "</style>\n",
       "<table border=\"1\" class=\"dataframe\">\n",
       "  <thead>\n",
       "    <tr style=\"text-align: right;\">\n",
       "      <th></th>\n",
       "      <th>song_name</th>\n",
       "      <th>song_popularity</th>\n",
       "      <th>song_duration_ms</th>\n",
       "      <th>acousticness</th>\n",
       "      <th>danceability</th>\n",
       "      <th>energy</th>\n",
       "      <th>instrumentalness</th>\n",
       "      <th>key</th>\n",
       "      <th>liveness</th>\n",
       "      <th>loudness</th>\n",
       "      <th>audio_mode</th>\n",
       "      <th>speechiness</th>\n",
       "      <th>tempo</th>\n",
       "      <th>time_signature</th>\n",
       "      <th>audio_valence</th>\n",
       "    </tr>\n",
       "  </thead>\n",
       "  <tbody>\n",
       "    <tr>\n",
       "      <th>0</th>\n",
       "      <td>Boulevard of Broken Dreams</td>\n",
       "      <td>73</td>\n",
       "      <td>262333</td>\n",
       "      <td>0.005520</td>\n",
       "      <td>0.496</td>\n",
       "      <td>0.682</td>\n",
       "      <td>0.000029</td>\n",
       "      <td>8</td>\n",
       "      <td>0.0589</td>\n",
       "      <td>-4.095</td>\n",
       "      <td>1</td>\n",
       "      <td>0.0294</td>\n",
       "      <td>167.060</td>\n",
       "      <td>4</td>\n",
       "      <td>0.474</td>\n",
       "    </tr>\n",
       "    <tr>\n",
       "      <th>1</th>\n",
       "      <td>In The End</td>\n",
       "      <td>66</td>\n",
       "      <td>216933</td>\n",
       "      <td>0.010300</td>\n",
       "      <td>0.542</td>\n",
       "      <td>0.853</td>\n",
       "      <td>0.000000</td>\n",
       "      <td>3</td>\n",
       "      <td>0.1080</td>\n",
       "      <td>-6.407</td>\n",
       "      <td>0</td>\n",
       "      <td>0.0498</td>\n",
       "      <td>105.256</td>\n",
       "      <td>4</td>\n",
       "      <td>0.370</td>\n",
       "    </tr>\n",
       "    <tr>\n",
       "      <th>2</th>\n",
       "      <td>Seven Nation Army</td>\n",
       "      <td>76</td>\n",
       "      <td>231733</td>\n",
       "      <td>0.008170</td>\n",
       "      <td>0.737</td>\n",
       "      <td>0.463</td>\n",
       "      <td>0.447000</td>\n",
       "      <td>0</td>\n",
       "      <td>0.2550</td>\n",
       "      <td>-7.828</td>\n",
       "      <td>1</td>\n",
       "      <td>0.0792</td>\n",
       "      <td>123.881</td>\n",
       "      <td>4</td>\n",
       "      <td>0.324</td>\n",
       "    </tr>\n",
       "    <tr>\n",
       "      <th>3</th>\n",
       "      <td>By The Way</td>\n",
       "      <td>74</td>\n",
       "      <td>216933</td>\n",
       "      <td>0.026400</td>\n",
       "      <td>0.451</td>\n",
       "      <td>0.970</td>\n",
       "      <td>0.003550</td>\n",
       "      <td>0</td>\n",
       "      <td>0.1020</td>\n",
       "      <td>-4.938</td>\n",
       "      <td>1</td>\n",
       "      <td>0.1070</td>\n",
       "      <td>122.444</td>\n",
       "      <td>4</td>\n",
       "      <td>0.198</td>\n",
       "    </tr>\n",
       "    <tr>\n",
       "      <th>4</th>\n",
       "      <td>How You Remind Me</td>\n",
       "      <td>56</td>\n",
       "      <td>223826</td>\n",
       "      <td>0.000954</td>\n",
       "      <td>0.447</td>\n",
       "      <td>0.766</td>\n",
       "      <td>0.000000</td>\n",
       "      <td>10</td>\n",
       "      <td>0.1130</td>\n",
       "      <td>-5.065</td>\n",
       "      <td>1</td>\n",
       "      <td>0.0313</td>\n",
       "      <td>172.011</td>\n",
       "      <td>4</td>\n",
       "      <td>0.574</td>\n",
       "    </tr>\n",
       "    <tr>\n",
       "      <th>...</th>\n",
       "      <td>...</td>\n",
       "      <td>...</td>\n",
       "      <td>...</td>\n",
       "      <td>...</td>\n",
       "      <td>...</td>\n",
       "      <td>...</td>\n",
       "      <td>...</td>\n",
       "      <td>...</td>\n",
       "      <td>...</td>\n",
       "      <td>...</td>\n",
       "      <td>...</td>\n",
       "      <td>...</td>\n",
       "      <td>...</td>\n",
       "      <td>...</td>\n",
       "      <td>...</td>\n",
       "    </tr>\n",
       "    <tr>\n",
       "      <th>18830</th>\n",
       "      <td>Let It Breathe</td>\n",
       "      <td>60</td>\n",
       "      <td>159645</td>\n",
       "      <td>0.893000</td>\n",
       "      <td>0.500</td>\n",
       "      <td>0.151</td>\n",
       "      <td>0.000065</td>\n",
       "      <td>11</td>\n",
       "      <td>0.1110</td>\n",
       "      <td>-16.107</td>\n",
       "      <td>1</td>\n",
       "      <td>0.0348</td>\n",
       "      <td>113.969</td>\n",
       "      <td>4</td>\n",
       "      <td>0.300</td>\n",
       "    </tr>\n",
       "    <tr>\n",
       "      <th>18831</th>\n",
       "      <td>Answers</td>\n",
       "      <td>60</td>\n",
       "      <td>205666</td>\n",
       "      <td>0.765000</td>\n",
       "      <td>0.495</td>\n",
       "      <td>0.161</td>\n",
       "      <td>0.000001</td>\n",
       "      <td>11</td>\n",
       "      <td>0.1050</td>\n",
       "      <td>-14.078</td>\n",
       "      <td>0</td>\n",
       "      <td>0.0301</td>\n",
       "      <td>94.286</td>\n",
       "      <td>4</td>\n",
       "      <td>0.265</td>\n",
       "    </tr>\n",
       "    <tr>\n",
       "      <th>18832</th>\n",
       "      <td>Sudden Love (Acoustic)</td>\n",
       "      <td>23</td>\n",
       "      <td>182211</td>\n",
       "      <td>0.847000</td>\n",
       "      <td>0.719</td>\n",
       "      <td>0.325</td>\n",
       "      <td>0.000000</td>\n",
       "      <td>0</td>\n",
       "      <td>0.1250</td>\n",
       "      <td>-12.222</td>\n",
       "      <td>1</td>\n",
       "      <td>0.0355</td>\n",
       "      <td>130.534</td>\n",
       "      <td>4</td>\n",
       "      <td>0.286</td>\n",
       "    </tr>\n",
       "    <tr>\n",
       "      <th>18833</th>\n",
       "      <td>Gentle on My Mind</td>\n",
       "      <td>55</td>\n",
       "      <td>352280</td>\n",
       "      <td>0.945000</td>\n",
       "      <td>0.488</td>\n",
       "      <td>0.326</td>\n",
       "      <td>0.015700</td>\n",
       "      <td>3</td>\n",
       "      <td>0.1190</td>\n",
       "      <td>-12.020</td>\n",
       "      <td>1</td>\n",
       "      <td>0.0328</td>\n",
       "      <td>106.063</td>\n",
       "      <td>4</td>\n",
       "      <td>0.323</td>\n",
       "    </tr>\n",
       "    <tr>\n",
       "      <th>18834</th>\n",
       "      <td>Up to Me</td>\n",
       "      <td>60</td>\n",
       "      <td>193533</td>\n",
       "      <td>0.911000</td>\n",
       "      <td>0.640</td>\n",
       "      <td>0.381</td>\n",
       "      <td>0.000254</td>\n",
       "      <td>4</td>\n",
       "      <td>0.1040</td>\n",
       "      <td>-11.790</td>\n",
       "      <td>1</td>\n",
       "      <td>0.0302</td>\n",
       "      <td>91.490</td>\n",
       "      <td>4</td>\n",
       "      <td>0.581</td>\n",
       "    </tr>\n",
       "  </tbody>\n",
       "</table>\n",
       "<p>18835 rows × 15 columns</p>\n",
       "</div>"
      ],
      "text/plain": [
       "                        song_name  song_popularity  song_duration_ms  \\\n",
       "0      Boulevard of Broken Dreams               73            262333   \n",
       "1                      In The End               66            216933   \n",
       "2               Seven Nation Army               76            231733   \n",
       "3                      By The Way               74            216933   \n",
       "4               How You Remind Me               56            223826   \n",
       "...                           ...              ...               ...   \n",
       "18830              Let It Breathe               60            159645   \n",
       "18831                     Answers               60            205666   \n",
       "18832      Sudden Love (Acoustic)               23            182211   \n",
       "18833           Gentle on My Mind               55            352280   \n",
       "18834                    Up to Me               60            193533   \n",
       "\n",
       "       acousticness  danceability  energy  instrumentalness  key  liveness  \\\n",
       "0          0.005520         0.496   0.682          0.000029    8    0.0589   \n",
       "1          0.010300         0.542   0.853          0.000000    3    0.1080   \n",
       "2          0.008170         0.737   0.463          0.447000    0    0.2550   \n",
       "3          0.026400         0.451   0.970          0.003550    0    0.1020   \n",
       "4          0.000954         0.447   0.766          0.000000   10    0.1130   \n",
       "...             ...           ...     ...               ...  ...       ...   \n",
       "18830      0.893000         0.500   0.151          0.000065   11    0.1110   \n",
       "18831      0.765000         0.495   0.161          0.000001   11    0.1050   \n",
       "18832      0.847000         0.719   0.325          0.000000    0    0.1250   \n",
       "18833      0.945000         0.488   0.326          0.015700    3    0.1190   \n",
       "18834      0.911000         0.640   0.381          0.000254    4    0.1040   \n",
       "\n",
       "       loudness  audio_mode  speechiness    tempo  time_signature  \\\n",
       "0        -4.095           1       0.0294  167.060               4   \n",
       "1        -6.407           0       0.0498  105.256               4   \n",
       "2        -7.828           1       0.0792  123.881               4   \n",
       "3        -4.938           1       0.1070  122.444               4   \n",
       "4        -5.065           1       0.0313  172.011               4   \n",
       "...         ...         ...          ...      ...             ...   \n",
       "18830   -16.107           1       0.0348  113.969               4   \n",
       "18831   -14.078           0       0.0301   94.286               4   \n",
       "18832   -12.222           1       0.0355  130.534               4   \n",
       "18833   -12.020           1       0.0328  106.063               4   \n",
       "18834   -11.790           1       0.0302   91.490               4   \n",
       "\n",
       "       audio_valence  \n",
       "0              0.474  \n",
       "1              0.370  \n",
       "2              0.324  \n",
       "3              0.198  \n",
       "4              0.574  \n",
       "...              ...  \n",
       "18830          0.300  \n",
       "18831          0.265  \n",
       "18832          0.286  \n",
       "18833          0.323  \n",
       "18834          0.581  \n",
       "\n",
       "[18835 rows x 15 columns]"
      ]
     },
     "execution_count": 20,
     "metadata": {},
     "output_type": "execute_result"
    }
   ],
   "source": [
    "import pandas as pd\n",
    "\n",
    "df = pd.read_csv('song_data.csv')\n",
    "df\n",
    "\n"
   ]
  },
  {
   "cell_type": "markdown",
   "metadata": {
    "deletable": false,
    "editable": false,
    "nbgrader": {
     "cell_type": "markdown",
     "checksum": "32ece8548018ba38aed9757847cdadc2",
     "grade": false,
     "grade_id": "cell-f61c85aa4792f9f0",
     "locked": true,
     "schema_version": 3,
     "solution": false,
     "task": false
    }
   },
   "source": [
    "# 1. Puzzle 1 "
   ]
  },
  {
   "cell_type": "markdown",
   "metadata": {
    "deletable": false,
    "editable": false,
    "nbgrader": {
     "cell_type": "markdown",
     "checksum": "e9f0ee75690f27c27e961321a4b13405",
     "grade": false,
     "grade_id": "cell-442fb4aa41937816",
     "locked": true,
     "schema_version": 3,
     "solution": false,
     "task": false
    }
   },
   "source": [
    "### 1.1 Find Descriptive Statistics\n",
    "Let's do some basic EDA to start. Find the mean, median, standard deviation, first quartile, and third quartile for each of the attributes. Quantiles are the same thing as quartiles that we talked about in class. *You will need some of these values later so make sure to store them as variables!*"
   ]
  },
  {
   "cell_type": "code",
   "execution_count": 47,
   "metadata": {
    "deletable": false,
    "nbgrader": {
     "cell_type": "code",
     "checksum": "550b35d56e454999e3910cee6872654b",
     "grade": false,
     "grade_id": "cell-1a9ba098db01bfaa",
     "locked": false,
     "schema_version": 3,
     "solution": true,
     "task": false
    }
   },
   "outputs": [],
   "source": [
    "df_mean = df.mean()\n",
    "df_median = df.median()\n",
    "df_sd = df.std()\n",
    "dfq = df.quantile([0.25,0.75])\n",
    "df_quantile1st = dfq.iloc[0]\n",
    "df_quantile3rd = dfq.iloc[1]\n"
   ]
  },
  {
   "cell_type": "code",
   "execution_count": 48,
   "metadata": {
    "deletable": false,
    "editable": false,
    "nbgrader": {
     "cell_type": "code",
     "checksum": "94a7341243988c787d14670005e5c59f",
     "grade": true,
     "grade_id": "cell-496495a67929f448",
     "locked": true,
     "points": 1,
     "schema_version": 3,
     "solution": false,
     "task": false
    }
   },
   "outputs": [
    {
     "name": "stdout",
     "output_type": "stream",
     "text": [
      "🎉 All tests passed! 🎉\n"
     ]
    }
   ],
   "source": [
    "## == TEST CASES for Puzzle 1.1 ==\n",
    "# - This read-only cell contains test cases for your previous cell.\n",
    "# - If this cell runs without any error our output, you PASSED all test cases!\n",
    "# - If this cell results in any errors, check you previous cell, make changes, and RE-RUN your code and then this cell.\n",
    "\n",
    "assert(round(df_mean[0],0) == 53), \"The value is not correct!\"\n",
    "assert(round(df_median[0],0) == 56), \"The value is not correct!\"\n",
    "assert(round(df_sd[0],0) == 22), \"The value is not correct!\"\n",
    "assert(round(df_quantile1st[0],0) == 40), \"The value is not correct!\"\n",
    "assert(round(df_quantile3rd[0],0) == 69), \"The value is not correct!\"\n",
    "tada = \"\\N{PARTY POPPER}\"\n",
    "print(f\"{tada} All tests passed! {tada}\")"
   ]
  },
  {
   "cell_type": "markdown",
   "metadata": {
    "deletable": false,
    "editable": false,
    "nbgrader": {
     "cell_type": "markdown",
     "checksum": "78c6666bff7cad57d8f8f19758251970",
     "grade": false,
     "grade_id": "cell-bce1e58971db9fb4",
     "locked": true,
     "schema_version": 3,
     "solution": false,
     "task": false
    }
   },
   "source": [
    "### 1.2 Histograms for the Dataset\n",
    "\n",
    "Plot the histograms for each column and find the two columns whose histograms are closest to the normal distribution. Calcuate the mean and standard deviation for these two columns. \n",
    "\n",
    "- If needed: In `df.hist`, use `figsize=(50, 30)` to make your figure bigger.\n"
   ]
  },
  {
   "cell_type": "code",
   "execution_count": 56,
   "metadata": {
    "deletable": false,
    "nbgrader": {
     "cell_type": "code",
     "checksum": "cd9c5b72449009a76dcc935bbb5d1345",
     "grade": false,
     "grade_id": "cell-20bcf1a74c11c1ec",
     "locked": false,
     "schema_version": 3,
     "solution": true,
     "task": false
    }
   },
   "outputs": [],
   "source": [
    "\n",
    "\n",
    "#'danceability`\n",
    "\n",
    "var1_mean = df['danceability'].mean()\n",
    "var1_sd = df['danceability'].std()\n",
    "\n",
    "#`song_popularity`\n",
    "var2_mean = df['song_popularity'].mean()\n",
    "var2_sd = df['song_popularity'].std()\n",
    "\n",
    "\n"
   ]
  },
  {
   "cell_type": "code",
   "execution_count": 57,
   "metadata": {
    "deletable": false,
    "editable": false,
    "nbgrader": {
     "cell_type": "code",
     "checksum": "14e50548fe860e2026e793187a9681c5",
     "grade": true,
     "grade_id": "cell-1abef90366d2a757",
     "locked": true,
     "points": 1,
     "schema_version": 3,
     "solution": false,
     "task": false
    }
   },
   "outputs": [
    {
     "name": "stdout",
     "output_type": "stream",
     "text": [
      "🎉 All tests passed! 🎉\n"
     ]
    }
   ],
   "source": [
    "## == TEST CASES for Puzzle 1.2 ==\n",
    "# - This read-only cell contains test cases for your previous cell.\n",
    "# - If this cell runs without any error our output, you PASSED all test cases!\n",
    "# - If this cell results in any errors, check you previous cell, make changes, and RE-RUN your code and then this cell.\n",
    "\n",
    "assert(round(var1_mean,1) == 0.6), \"The value is not correct!\"\n",
    "assert(round(var1_sd,1) == 0.2), \"The value is not correct!\"\n",
    "assert(round(var2_mean,1) == 53), \"The value is not correct!\"\n",
    "assert(round(var2_sd,1) == 21.9), \"The value is not correct!\"\n",
    "tada = \"\\N{PARTY POPPER}\"\n",
    "print(f\"{tada} All tests passed! {tada}\")"
   ]
  },
  {
   "cell_type": "markdown",
   "metadata": {
    "deletable": false,
    "editable": false,
    "nbgrader": {
     "cell_type": "markdown",
     "checksum": "d69b33fc267eb7ae4d855bde7cf69931",
     "grade": false,
     "grade_id": "cell-a28d80896657a45c",
     "locked": true,
     "schema_version": 3,
     "solution": false,
     "task": false
    }
   },
   "source": [
    "# 2. Puzzle 2"
   ]
  },
  {
   "cell_type": "markdown",
   "metadata": {
    "deletable": false,
    "editable": false,
    "nbgrader": {
     "cell_type": "markdown",
     "checksum": "49d6a99b47ca41179cfcf392d7d4345f",
     "grade": false,
     "grade_id": "cell-885cec22da463dbb",
     "locked": true,
     "schema_version": 3,
     "solution": false,
     "task": false
    }
   },
   "source": [
    "### 2.1 Simulation #1\n",
    "Now, we will see the beauty of the Central Limit Theorem.  \n",
    "\n",
    "Define a funciton called `simulate_average` that will simulate playing `n` random songs and return the average value of these `n` songs for each column. For example, the column may be `'danceability'` and your function should return the average `'danceability'` for the `n` songs. (Hint: Your function should take 2 arguments)"
   ]
  },
  {
   "cell_type": "code",
   "execution_count": 69,
   "metadata": {
    "deletable": false,
    "nbgrader": {
     "cell_type": "code",
     "checksum": "4b39ce4c558633e966e951eabe8213cd",
     "grade": false,
     "grade_id": "cell-6c5408ef21a469e8",
     "locked": false,
     "schema_version": 3,
     "solution": true,
     "task": false
    }
   },
   "outputs": [
    {
     "data": {
      "text/plain": [
       "0.64099"
      ]
     },
     "execution_count": 69,
     "metadata": {},
     "output_type": "execute_result"
    }
   ],
   "source": [
    "### simulate_average ###\n",
    "\n",
    "def simulate_average(column_name,n):\n",
    "    dfA = df[column_name].sample(n)\n",
    "    return dfA.mean()\n",
    "\n",
    "\n",
    "\n",
    "\n",
    "\n",
    "\n",
    "\n",
    "  #  def simulate_average(column_name,n):\n",
    "     #   dfC = df[column_name]\n",
    "      #  for i in range(n):\n",
    "        #    dfr = dfC.sample(n=1)\n",
    "         #   dfr_a = dfr.mean()\n",
    "          #  d = {'average':dfr_a}\n",
    "          #  data.append(d)\n",
    "        #dfA = pd.DataFrame(data)\n",
    "     #   return dfA\n",
    "\n",
    "simulate_average('danceability',100)\n"
   ]
  },
  {
   "cell_type": "markdown",
   "metadata": {
    "deletable": false,
    "editable": false,
    "nbgrader": {
     "cell_type": "markdown",
     "checksum": "5f1ac7d8962d426a9ee5b3ea9249b018",
     "grade": false,
     "grade_id": "cell-bb599a9f9672e3f1",
     "locked": true,
     "schema_version": 3,
     "solution": false,
     "task": false
    }
   },
   "source": [
    "### 2.1.1 Approximating The Normal Distribution\n",
    "\n",
    "Plot the histogram for the column `loudness`. Then using the `simulate_average` function we defined before, use the column `loudness` to run the simulation **100** times with `n = 1000`.  Store the results in a dataframe and plot the histogram to see the results.  Repeat this with the variable `danceability`.  Finally, repeat the process **10000** times for both variables and see the results."
   ]
  },
  {
   "cell_type": "code",
   "execution_count": 78,
   "metadata": {
    "deletable": false,
    "nbgrader": {
     "cell_type": "code",
     "checksum": "3427dbb5825655d5b2e28e5194904dac",
     "grade": false,
     "grade_id": "cell-de2def1a23d85b1a",
     "locked": false,
     "schema_version": 3,
     "solution": true,
     "task": false
    }
   },
   "outputs": [
    {
     "data": {
      "text/plain": [
       "array([[<matplotlib.axes._subplots.AxesSubplot object at 0x1075d4a90>]],\n",
       "      dtype=object)"
      ]
     },
     "execution_count": 78,
     "metadata": {},
     "output_type": "execute_result"
    },
    {
     "data": {
      "image/png": "[encoded data removed]",
      "text/plain": [
       "<Figure size 432x288 with 1 Axes>"
      ]
     },
     "metadata": {
      "needs_background": "light"
     },
     "output_type": "display_data"
    },
    {
     "data": {
      "image/png": "[encoded data removed]",
      "text/plain": [
       "<Figure size 432x288 with 1 Axes>"
      ]
     },
     "metadata": {
      "needs_background": "light"
     },
     "output_type": "display_data"
    },
    {
     "data": {
      "image/png": "[encoded data removed]",
      "text/plain": [
       "<Figure size 432x288 with 1 Axes>"
      ]
     },
     "metadata": {
      "needs_background": "light"
     },
     "output_type": "display_data"
    },
    {
     "data": {
      "image/png": "[encoded data removed]",
      "text/plain": [
       "<Figure size 432x288 with 1 Axes>"
      ]
     },
     "metadata": {
      "needs_background": "light"
     },
     "output_type": "display_data"
    },
    {
     "data": {
      "image/png": "[encoded data removed]",
      "text/plain": [
       "<Figure size 432x288 with 1 Axes>"
      ]
     },
     "metadata": {
      "needs_background": "light"
     },
     "output_type": "display_data"
    }
   ],
   "source": [
    "\n",
    "loudness_hist = df.hist('loudness')\n",
    "\n",
    "def run_model(column_name,x,n):\n",
    "    data=[]\n",
    "    for i in range(x):\n",
    "        ave = simulate_average(column_name,n)\n",
    "        d= {'average':ave}\n",
    "        data.append(d)\n",
    "    df = pd.DataFrame(data)\n",
    "    return df\n",
    "        \n",
    "\n",
    "df_danceability_100 = run_model('danceability',100,1000)\n",
    "df_danceability_100.hist()\n",
    "\n",
    "df_loudness_100 = run_model('loudness',100,1000)\n",
    "df_loudness_100.hist()\n",
    "\n",
    "df_danceability_10000 = run_model('danceability',10000,1000)\n",
    "df_danceability_10000.hist()\n",
    "\n",
    "df_loudness_10000 = run_model('loudness',10000,1000)\n",
    "df_loudness_10000.hist()\n",
    "\n"
   ]
  },
  {
   "cell_type": "code",
   "execution_count": 79,
   "metadata": {
    "deletable": false,
    "editable": false,
    "nbgrader": {
     "cell_type": "code",
     "checksum": "9f219f8c82ef1df8eba658fc127d7467",
     "grade": true,
     "grade_id": "cell-fbb14166a355972b",
     "locked": true,
     "points": 1,
     "schema_version": 3,
     "solution": false,
     "task": false
    }
   },
   "outputs": [
    {
     "name": "stdout",
     "output_type": "stream",
     "text": [
      "🎉 All tests passed! 🎉\n"
     ]
    }
   ],
   "source": [
    "## == TEST CASES for Puzzle 2 ==\n",
    "# - This read-only cell contains test cases for your previous cell.\n",
    "# - If this cell runs without any error our output, you PASSED all test cases!\n",
    "# - If this cell results in any errors, check you previous cell, make changes, and RE-RUN your code and then this cell.\n",
    "\n",
    "assert( (0.62 <= df_danceability_100.mean()).bool() & (df_danceability_100.mean() <= 0.68).bool() ), \"The simulation is not correct!\"\n",
    "assert( (-7.6 <= df_loudness_100.mean()).bool() & (df_loudness_100.mean() <= -7.3).bool() ), \"The simulation is not correct!\"\n",
    "assert( (0.62 <= df_danceability_10000.mean()).bool() & (df_danceability_10000.mean() <= 0.68).bool() ), \"The simulation is not correct!\"\n",
    "assert( (-7.6 <= df_loudness_10000.mean()).bool() & (df_loudness_10000.mean() <= -7.3).bool() ), \"The simulation is not correct!\"\n",
    "tada = \"\\N{PARTY POPPER}\"\n",
    "print(f\"{tada} All tests passed! {tada}\")"
   ]
  },
  {
   "cell_type": "markdown",
   "metadata": {
    "deletable": false,
    "editable": false,
    "nbgrader": {
     "cell_type": "markdown",
     "checksum": "6606089c2bd4047b2cfa6868dea2626c",
     "grade": false,
     "grade_id": "cell-cd7ec5f66b8c0a21",
     "locked": true,
     "schema_version": 3,
     "solution": false,
     "task": false
    }
   },
   "source": [
    "### 2.1 Simulation #2\n",
    "In simulation #1, we saw the CLT in action using the song dataset. In this simulation, we are going to see the CLT again, but for rolling dice. Create **10** simulations of **50** die rolls.  For each simulation, find the average of the dice rolls and store the value. Then create a histogram of your results. Repeat, but using **100** simulations. Finally, repeat again with **1000** simulations."
   ]
  },
  {
   "cell_type": "code",
   "execution_count": 104,
   "metadata": {
    "deletable": false,
    "nbgrader": {
     "cell_type": "code",
     "checksum": "2831c799eef7af780ba126aa8380fad8",
     "grade": false,
     "grade_id": "cell-7c3bd1e8efe3344a",
     "locked": false,
     "schema_version": 3,
     "solution": true,
     "task": false
    }
   },
   "outputs": [
    {
     "data": {
      "text/plain": [
       "array([[<matplotlib.axes._subplots.AxesSubplot object at 0x11ecbf850>]],\n",
       "      dtype=object)"
      ]
     },
     "execution_count": 104,
     "metadata": {},
     "output_type": "execute_result"
    },
    {
     "data": {
      "image/png": "[encoded data removed]",
      "text/plain": [
       "<Figure size 432x288 with 1 Axes>"
      ]
     },
     "metadata": {
      "needs_background": "light"
     },
     "output_type": "display_data"
    },
    {
     "data": {
      "image/png": "[encoded data removed]",
      "text/plain": [
       "<Figure size 432x288 with 1 Axes>"
      ]
     },
     "metadata": {
      "needs_background": "light"
     },
     "output_type": "display_data"
    },
    {
     "data": {
      "image/png": "[encoded data removed]",
      "text/plain": [
       "<Figure size 432x288 with 1 Axes>"
      ]
     },
     "metadata": {
      "needs_background": "light"
     },
     "output_type": "display_data"
    }
   ],
   "source": [
    "import random\n",
    "\n",
    "\n",
    "def dice_roll():\n",
    "    score =0\n",
    "    for i in range(50):\n",
    "        x = random.randint(1,6)\n",
    "        score =score+x\n",
    "    total = score/50\n",
    "    return total\n",
    "\n",
    "\n",
    "def simulate_dice(a):\n",
    "    data =[]\n",
    "    for i in range(a):\n",
    "        ave = dice_roll()\n",
    "        d = {'average':ave}\n",
    "        data.append(d)\n",
    "    df = pd.DataFrame(data)\n",
    "    return df\n",
    "        \n",
    "        \n",
    "        \n",
    "\n",
    "        \n",
    "\n",
    "df_dice_10 = simulate_dice(10)\n",
    "df_dice_10.hist()\n",
    "\n",
    "df_dice_100 = simulate_dice(100)\n",
    "df_dice_100.hist()\n",
    "df_dice_1000 = simulate_dice(100)\n",
    "df_dice_1000.hist()\n",
    "\n"
   ]
  },
  {
   "cell_type": "code",
   "execution_count": 105,
   "metadata": {
    "deletable": false,
    "editable": false,
    "nbgrader": {
     "cell_type": "code",
     "checksum": "c6194844b29cccfe270f767c2b1bb7e8",
     "grade": true,
     "grade_id": "cell-f850852667e6dce3",
     "locked": true,
     "points": 1,
     "schema_version": 3,
     "solution": false,
     "task": false
    }
   },
   "outputs": [
    {
     "name": "stdout",
     "output_type": "stream",
     "text": [
      "🎉 All tests passed! 🎉\n"
     ]
    }
   ],
   "source": [
    "## == TEST CASES for Puzzle 3 ==\n",
    "# - This read-only cell contains test cases for your previous cell.\n",
    "# - If this cell runs without any error our output, you PASSED all test cases!\n",
    "# - If this cell results in any errors, check you previous cell, make changes, and RE-RUN your code and then this cell.\n",
    "\n",
    "assert( (3.3 <= df_dice_1000.mean()).bool() & (df_dice_1000.mean() <= 3.6).bool() ), \"The simulation is not correct!\"\n",
    "tada = \"\\N{PARTY POPPER}\"\n",
    "print(f\"{tada} All tests passed! {tada}\")"
   ]
  },
  {
   "cell_type": "markdown",
   "metadata": {
    "deletable": false,
    "editable": false,
    "nbgrader": {
     "cell_type": "markdown",
     "checksum": "2c434da4ef6e66b337c07a5fe65daed2",
     "grade": false,
     "grade_id": "cell-3058fc9866235ced",
     "locked": true,
     "schema_version": 3,
     "solution": false,
     "task": false
    }
   },
   "source": [
    "## Submit Your Work!\n",
    "\n",
    "You're almost done -- congratulations!\n",
    "\n",
    "You need to do two more things:\n",
    "\n",
    "1. Save your work.  To do this, create a **notebook checkpoint** by using the menu within the notebook to go **File -> Save and Checkpoint**\n",
    "\n",
    "2. Choose `File` and then `Close and Halt` from this notebook.\n",
    "\n",
    "3. Choose `Quit` on the main notebook webpage.\n",
    "\n",
    "4. Return to your command line and follow the directions on the Data Science Discovery page on how to use git to turn this notebook into the course!"
   ]
  },
  {
   "cell_type": "code",
   "execution_count": null,
   "metadata": {},
   "outputs": [],
   "source": []
  }
 ],
 "metadata": {
  "kernelspec": {
   "display_name": "Python 3",
   "language": "python",
   "name": "python3"
  },
  "language_info": {
   "codemirror_mode": {
    "name": "ipython",
    "version": 3
   },
   "file_extension": ".py",
   "mimetype": "text/x-python",
   "name": "python",
   "nbconvert_exporter": "python",
   "pygments_lexer": "ipython3",
   "version": "3.7.6"
  }
 },
 "nbformat": 4,
 "nbformat_minor": 2
}
