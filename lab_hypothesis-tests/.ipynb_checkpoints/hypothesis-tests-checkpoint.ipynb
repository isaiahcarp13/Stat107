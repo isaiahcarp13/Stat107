{
 "cells": [
  {
   "cell_type": "markdown",
   "metadata": {},
   "source": [
    "# Lab: Hypothesis Testing\n",
    "\n",
    "\n",
    "## More Sleep Always! \n",
    "\n",
    "SLEEP! It's a beautiful thing that most of us don't get enough of!  There has been a lot of research done looking the amount of sleep different people get on average.  The following is an example of one of them. \n",
    "\n",
    "In 2013, [Gallup completed their latest survey on sleep](https://news.gallup.com/poll/166553/less-recommended-amount-sleep.aspx) that shows that the average amount of sleep Americans get is 6.8 hours ($\\mu = 6.8$). This seems a bit low, right? How do you think our class average in Data Science DISCOVERY compares to this? It might be less than 6.8 or it may be more than that. Let's find out if the ideal hours of sleep STAT 107 students would get is significantly different from the average amount of sleep that all Americans get reported by Gallup. For the sake of this lab, assume our survey data is a random sample from the population (Americans).\n",
    "\n",
    "Run a **hypothesis test** to find out if the data we have is significantly different from the population/Gallup poll. \n",
    "\n",
    "You need to look at the Day 1 Dataset (from the first week of class) which gives you the ideal amount of sleep Stat 107 students get each week. Here's the link (make sure to login with @illinois): \n",
    "https://docs.google.com/spreadsheets/d/1uS6OoVsaCNEDwi-ozOXJe7Vn08M-41k7W1cdAlwLIiY/edit?usp=sharing\n",
    "\n",
    "As always, start with uploading dataset to your notebook, and import the relevant libraries to your notebook.\n"
   ]
  },
  {
   "cell_type": "code",
   "execution_count": 2,
   "metadata": {
    "deletable": false,
    "nbgrader": {
     "cell_type": "code",
     "checksum": "ffd29191a832aac7139ddf8638e327f7",
     "grade": false,
     "grade_id": "cell-d2f6e20542c85a37",
     "locked": false,
     "schema_version": 3,
     "solution": true,
     "task": false
    }
   },
   "outputs": [
    {
     "data": {
      "text/html": [
       "<div>\n",
       "<style scoped>\n",
       "    .dataframe tbody tr th:only-of-type {\n",
       "        vertical-align: middle;\n",
       "    }\n",
       "\n",
       "    .dataframe tbody tr th {\n",
       "        vertical-align: top;\n",
       "    }\n",
       "\n",
       "    .dataframe thead th {\n",
       "        text-align: right;\n",
       "    }\n",
       "</style>\n",
       "<table border=\"1\" class=\"dataframe\">\n",
       "  <thead>\n",
       "    <tr style=\"text-align: right;\">\n",
       "      <th></th>\n",
       "      <th>Name</th>\n",
       "      <th>Major</th>\n",
       "      <th>School Year</th>\n",
       "      <th>Phone</th>\n",
       "      <th>Computer</th>\n",
       "      <th>Holes in a Straw</th>\n",
       "      <th>Has Dogs</th>\n",
       "      <th>Has Cats</th>\n",
       "      <th>Has Fish</th>\n",
       "      <th>Has Chickens</th>\n",
       "      <th>...</th>\n",
       "      <th>Programmed before?</th>\n",
       "      <th>Python Background</th>\n",
       "      <th>Statistics Courses</th>\n",
       "      <th>Hours Studying</th>\n",
       "      <th>Siblings</th>\n",
       "      <th>Hours of Sleep</th>\n",
       "      <th>Shoes Owned</th>\n",
       "      <th>People Texted Yesterday</th>\n",
       "      <th>Personality</th>\n",
       "      <th>Pineapple on Pizza</th>\n",
       "    </tr>\n",
       "  </thead>\n",
       "  <tbody>\n",
       "    <tr>\n",
       "      <th>0</th>\n",
       "      <td>Wade</td>\n",
       "      <td>Computer Science</td>\n",
       "      <td>Other</td>\n",
       "      <td>Android</td>\n",
       "      <td>Windows-based computer</td>\n",
       "      <td>2.0</td>\n",
       "      <td>0</td>\n",
       "      <td>1</td>\n",
       "      <td>0</td>\n",
       "      <td>0</td>\n",
       "      <td>...</td>\n",
       "      <td>Yes</td>\n",
       "      <td>Significant -- I am a wizard when it comes to ...</td>\n",
       "      <td>2</td>\n",
       "      <td>3.0</td>\n",
       "      <td>2</td>\n",
       "      <td>8.0</td>\n",
       "      <td>4</td>\n",
       "      <td>2</td>\n",
       "      <td>Introvert</td>\n",
       "      <td>Yes</td>\n",
       "    </tr>\n",
       "    <tr>\n",
       "      <th>1</th>\n",
       "      <td>Karle</td>\n",
       "      <td>Statistics</td>\n",
       "      <td>Other</td>\n",
       "      <td>iPhone</td>\n",
       "      <td>Mac OS X-based computer</td>\n",
       "      <td>1.0</td>\n",
       "      <td>0</td>\n",
       "      <td>0</td>\n",
       "      <td>0</td>\n",
       "      <td>0</td>\n",
       "      <td>...</td>\n",
       "      <td>Yes</td>\n",
       "      <td>Some Python -- I have had one class or written...</td>\n",
       "      <td>20</td>\n",
       "      <td>1.0</td>\n",
       "      <td>2</td>\n",
       "      <td>7.0</td>\n",
       "      <td>20</td>\n",
       "      <td>24</td>\n",
       "      <td>Extrovert</td>\n",
       "      <td>Yes</td>\n",
       "    </tr>\n",
       "    <tr>\n",
       "      <th>2</th>\n",
       "      <td>Grace</td>\n",
       "      <td>Statistics</td>\n",
       "      <td>Sophomore</td>\n",
       "      <td>iPhone</td>\n",
       "      <td>Mac OS X-based computer</td>\n",
       "      <td>2.0</td>\n",
       "      <td>1</td>\n",
       "      <td>1</td>\n",
       "      <td>1</td>\n",
       "      <td>0</td>\n",
       "      <td>...</td>\n",
       "      <td>No</td>\n",
       "      <td>No programming background -- is Python Taylor ...</td>\n",
       "      <td>3</td>\n",
       "      <td>4.0</td>\n",
       "      <td>1</td>\n",
       "      <td>8.0</td>\n",
       "      <td>40</td>\n",
       "      <td>4</td>\n",
       "      <td>Introvert</td>\n",
       "      <td>Yes</td>\n",
       "    </tr>\n",
       "    <tr>\n",
       "      <th>3</th>\n",
       "      <td>Miranda</td>\n",
       "      <td>Cs and math</td>\n",
       "      <td>Sophomore</td>\n",
       "      <td>iPhone</td>\n",
       "      <td>Mac OS X-based computer</td>\n",
       "      <td>1.0</td>\n",
       "      <td>0</td>\n",
       "      <td>1</td>\n",
       "      <td>0</td>\n",
       "      <td>0</td>\n",
       "      <td>...</td>\n",
       "      <td>Yes</td>\n",
       "      <td>No Python, but I've done some programming in o...</td>\n",
       "      <td>1</td>\n",
       "      <td>4.0</td>\n",
       "      <td>1</td>\n",
       "      <td>6.0</td>\n",
       "      <td>15</td>\n",
       "      <td>20</td>\n",
       "      <td>Introvert</td>\n",
       "      <td>Yes</td>\n",
       "    </tr>\n",
       "    <tr>\n",
       "      <th>4</th>\n",
       "      <td>Chen</td>\n",
       "      <td>Information Science</td>\n",
       "      <td>Freshman</td>\n",
       "      <td>iPhone</td>\n",
       "      <td>Mac OS X-based computer</td>\n",
       "      <td>1.0</td>\n",
       "      <td>0</td>\n",
       "      <td>0</td>\n",
       "      <td>0</td>\n",
       "      <td>0</td>\n",
       "      <td>...</td>\n",
       "      <td>Yes</td>\n",
       "      <td>No Python, but I've done some programming in o...</td>\n",
       "      <td>1</td>\n",
       "      <td>4.0</td>\n",
       "      <td>0</td>\n",
       "      <td>8.0</td>\n",
       "      <td>20</td>\n",
       "      <td>20</td>\n",
       "      <td>Extrovert</td>\n",
       "      <td>Yes</td>\n",
       "    </tr>\n",
       "    <tr>\n",
       "      <th>...</th>\n",
       "      <td>...</td>\n",
       "      <td>...</td>\n",
       "      <td>...</td>\n",
       "      <td>...</td>\n",
       "      <td>...</td>\n",
       "      <td>...</td>\n",
       "      <td>...</td>\n",
       "      <td>...</td>\n",
       "      <td>...</td>\n",
       "      <td>...</td>\n",
       "      <td>...</td>\n",
       "      <td>...</td>\n",
       "      <td>...</td>\n",
       "      <td>...</td>\n",
       "      <td>...</td>\n",
       "      <td>...</td>\n",
       "      <td>...</td>\n",
       "      <td>...</td>\n",
       "      <td>...</td>\n",
       "      <td>...</td>\n",
       "      <td>...</td>\n",
       "    </tr>\n",
       "    <tr>\n",
       "      <th>86</th>\n",
       "      <td>Nick</td>\n",
       "      <td>Statistics</td>\n",
       "      <td>Sophomore</td>\n",
       "      <td>iPhone</td>\n",
       "      <td>Mac OS X-based computer</td>\n",
       "      <td>1.0</td>\n",
       "      <td>1</td>\n",
       "      <td>0</td>\n",
       "      <td>0</td>\n",
       "      <td>0</td>\n",
       "      <td>...</td>\n",
       "      <td>Yes</td>\n",
       "      <td>No Python, but I've done some programming in o...</td>\n",
       "      <td>3</td>\n",
       "      <td>3.0</td>\n",
       "      <td>1</td>\n",
       "      <td>9.0</td>\n",
       "      <td>3</td>\n",
       "      <td>4</td>\n",
       "      <td>Introvert</td>\n",
       "      <td>No</td>\n",
       "    </tr>\n",
       "    <tr>\n",
       "      <th>87</th>\n",
       "      <td>Howe</td>\n",
       "      <td>Statistics</td>\n",
       "      <td>Sophomore</td>\n",
       "      <td>iPhone</td>\n",
       "      <td>Windows-based computer</td>\n",
       "      <td>1.0</td>\n",
       "      <td>0</td>\n",
       "      <td>1</td>\n",
       "      <td>0</td>\n",
       "      <td>0</td>\n",
       "      <td>...</td>\n",
       "      <td>No</td>\n",
       "      <td>No programming background -- is Python Taylor ...</td>\n",
       "      <td>2</td>\n",
       "      <td>4.0</td>\n",
       "      <td>1</td>\n",
       "      <td>7.0</td>\n",
       "      <td>5</td>\n",
       "      <td>20</td>\n",
       "      <td>Introvert</td>\n",
       "      <td>Yes</td>\n",
       "    </tr>\n",
       "    <tr>\n",
       "      <th>88</th>\n",
       "      <td>Davin</td>\n",
       "      <td>Economics</td>\n",
       "      <td>Senior</td>\n",
       "      <td>iPhone</td>\n",
       "      <td>Mac OS X-based computer</td>\n",
       "      <td>1.0</td>\n",
       "      <td>0</td>\n",
       "      <td>0</td>\n",
       "      <td>0</td>\n",
       "      <td>0</td>\n",
       "      <td>...</td>\n",
       "      <td>Yes</td>\n",
       "      <td>Some Python -- I have had one class or written...</td>\n",
       "      <td>4</td>\n",
       "      <td>3.0</td>\n",
       "      <td>3</td>\n",
       "      <td>5.0</td>\n",
       "      <td>12</td>\n",
       "      <td>30</td>\n",
       "      <td>Extrovert</td>\n",
       "      <td>No</td>\n",
       "    </tr>\n",
       "    <tr>\n",
       "      <th>89</th>\n",
       "      <td>Tanvi</td>\n",
       "      <td>Statistics</td>\n",
       "      <td>Sophomore</td>\n",
       "      <td>iPhone</td>\n",
       "      <td>Windows-based computer</td>\n",
       "      <td>1.0</td>\n",
       "      <td>0</td>\n",
       "      <td>0</td>\n",
       "      <td>0</td>\n",
       "      <td>0</td>\n",
       "      <td>...</td>\n",
       "      <td>Yes</td>\n",
       "      <td>Some Python -- I have had one class or written...</td>\n",
       "      <td>3</td>\n",
       "      <td>4.0</td>\n",
       "      <td>1</td>\n",
       "      <td>7.0</td>\n",
       "      <td>5</td>\n",
       "      <td>9</td>\n",
       "      <td>Introvert</td>\n",
       "      <td>No</td>\n",
       "    </tr>\n",
       "    <tr>\n",
       "      <th>90</th>\n",
       "      <td>Christopher</td>\n",
       "      <td>Law</td>\n",
       "      <td>Other</td>\n",
       "      <td>iPhone</td>\n",
       "      <td>Windows-based computer</td>\n",
       "      <td>2.0</td>\n",
       "      <td>0</td>\n",
       "      <td>0</td>\n",
       "      <td>0</td>\n",
       "      <td>1</td>\n",
       "      <td>...</td>\n",
       "      <td>No</td>\n",
       "      <td>No programming background -- is Python Taylor ...</td>\n",
       "      <td>2</td>\n",
       "      <td>5.0</td>\n",
       "      <td>7</td>\n",
       "      <td>7.0</td>\n",
       "      <td>5</td>\n",
       "      <td>5</td>\n",
       "      <td>Introvert</td>\n",
       "      <td>No</td>\n",
       "    </tr>\n",
       "  </tbody>\n",
       "</table>\n",
       "<p>91 rows × 33 columns</p>\n",
       "</div>"
      ],
      "text/plain": [
       "           Name                Major School Year    Phone  \\\n",
       "0          Wade     Computer Science       Other  Android   \n",
       "1         Karle           Statistics       Other   iPhone   \n",
       "2         Grace           Statistics   Sophomore   iPhone   \n",
       "3       Miranda          Cs and math   Sophomore   iPhone   \n",
       "4          Chen  Information Science    Freshman   iPhone   \n",
       "..          ...                  ...         ...      ...   \n",
       "86         Nick           Statistics   Sophomore   iPhone   \n",
       "87         Howe           Statistics   Sophomore   iPhone   \n",
       "88        Davin            Economics      Senior   iPhone   \n",
       "89        Tanvi           Statistics   Sophomore   iPhone   \n",
       "90  Christopher                  Law       Other   iPhone   \n",
       "\n",
       "                   Computer  Holes in a Straw  Has Dogs  Has Cats  Has Fish  \\\n",
       "0    Windows-based computer               2.0         0         1         0   \n",
       "1   Mac OS X-based computer               1.0         0         0         0   \n",
       "2   Mac OS X-based computer               2.0         1         1         1   \n",
       "3   Mac OS X-based computer               1.0         0         1         0   \n",
       "4   Mac OS X-based computer               1.0         0         0         0   \n",
       "..                      ...               ...       ...       ...       ...   \n",
       "86  Mac OS X-based computer               1.0         1         0         0   \n",
       "87   Windows-based computer               1.0         0         1         0   \n",
       "88  Mac OS X-based computer               1.0         0         0         0   \n",
       "89   Windows-based computer               1.0         0         0         0   \n",
       "90   Windows-based computer               2.0         0         0         0   \n",
       "\n",
       "    Has Chickens  ...  Programmed before?  \\\n",
       "0              0  ...                 Yes   \n",
       "1              0  ...                 Yes   \n",
       "2              0  ...                  No   \n",
       "3              0  ...                 Yes   \n",
       "4              0  ...                 Yes   \n",
       "..           ...  ...                 ...   \n",
       "86             0  ...                 Yes   \n",
       "87             0  ...                  No   \n",
       "88             0  ...                 Yes   \n",
       "89             0  ...                 Yes   \n",
       "90             1  ...                  No   \n",
       "\n",
       "                                    Python Background  Statistics Courses  \\\n",
       "0   Significant -- I am a wizard when it comes to ...                   2   \n",
       "1   Some Python -- I have had one class or written...                  20   \n",
       "2   No programming background -- is Python Taylor ...                   3   \n",
       "3   No Python, but I've done some programming in o...                   1   \n",
       "4   No Python, but I've done some programming in o...                   1   \n",
       "..                                                ...                 ...   \n",
       "86  No Python, but I've done some programming in o...                   3   \n",
       "87  No programming background -- is Python Taylor ...                   2   \n",
       "88  Some Python -- I have had one class or written...                   4   \n",
       "89  Some Python -- I have had one class or written...                   3   \n",
       "90  No programming background -- is Python Taylor ...                   2   \n",
       "\n",
       "    Hours Studying Siblings Hours of Sleep  Shoes Owned  \\\n",
       "0              3.0        2            8.0            4   \n",
       "1              1.0        2            7.0           20   \n",
       "2              4.0        1            8.0           40   \n",
       "3              4.0        1            6.0           15   \n",
       "4              4.0        0            8.0           20   \n",
       "..             ...      ...            ...          ...   \n",
       "86             3.0        1            9.0            3   \n",
       "87             4.0        1            7.0            5   \n",
       "88             3.0        3            5.0           12   \n",
       "89             4.0        1            7.0            5   \n",
       "90             5.0        7            7.0            5   \n",
       "\n",
       "    People Texted Yesterday  Personality  Pineapple on Pizza  \n",
       "0                         2    Introvert                 Yes  \n",
       "1                        24    Extrovert                 Yes  \n",
       "2                         4    Introvert                 Yes  \n",
       "3                        20    Introvert                 Yes  \n",
       "4                        20    Extrovert                 Yes  \n",
       "..                      ...          ...                 ...  \n",
       "86                        4    Introvert                  No  \n",
       "87                       20    Introvert                 Yes  \n",
       "88                       30    Extrovert                  No  \n",
       "89                        9    Introvert                  No  \n",
       "90                        5    Introvert                  No  \n",
       "\n",
       "[91 rows x 33 columns]"
      ]
     },
     "execution_count": 2,
     "metadata": {},
     "output_type": "execute_result"
    }
   ],
   "source": [
    "import pandas as pd\n",
    "\n",
    "df = pd.read_csv(\"Hello.csv\")\n",
    "df"
   ]
  },
  {
   "cell_type": "markdown",
   "metadata": {
    "deletable": false,
    "editable": false,
    "nbgrader": {
     "cell_type": "markdown",
     "checksum": "ac0b177074733266e81020aef08713e3",
     "grade": false,
     "grade_id": "cell-4d373d1867848202",
     "locked": true,
     "schema_version": 3,
     "solution": false
    }
   },
   "source": [
    "## Puzzle 1: Sleep Among STAT 107 Students\n",
    "\n",
    "### Part 1: Null and Alternative Hypothesis\n",
    "In class, we learned that the first step when doing any hypothesis test is to state the **Null Hypothesis** and **Alternative Hypothesis**. \n",
    "\n",
    "**Null Hypothesis** := The null hypothesis says that any difference between our sample and the population is small and due to chance.\n",
    "\n",
    "**Alternative Hypothesis** := The alternative hypothesis says that the differences we observe are not just due to chance. \n",
    "\n",
    "_Warning!!!_ Remember that when you are stating your hypotheses, they always include the **population parameters** such as $\\mu$ not **sample parameters** $\\bar{X}$. \n",
    "\n",
    "Using the Day 1 dataset and the Gallup poll, state your 2 hypotheses:"
   ]
  },
  {
   "cell_type": "markdown",
   "metadata": {},
   "source": [
    "### Null Hypothesis\n",
    "\n",
    "$H_0$ := Day1.Mean - 6.8 = 0\n",
    "\n",
    "\n",
    "### Alternative Hypothesis\n",
    "\n",
    "$H_a$ := Day1.Mean - 6.8 != 0\n"
   ]
  },
  {
   "cell_type": "markdown",
   "metadata": {
    "deletable": false,
    "editable": false,
    "nbgrader": {
     "cell_type": "markdown",
     "checksum": "661beb1762cf7c5f40e79636b02417f6",
     "grade": false,
     "grade_id": "cell-0d923f06aa55df70",
     "locked": true,
     "schema_version": 3,
     "solution": false
    }
   },
   "source": [
    "### Part 1a: P-Values:\n",
    "In lecture, Karle and Wade discussed what a p-value is. We can use it to decide which hypothesis is supported by our data.\n",
    "Here, it will tell us the probability that we will observe the difference we observed between our sample data and the Gallup data, given that the true average hours of sleep is really 6.8 hours, as reported by Gallup.\n",
    "\n",
    "Calculate the Z-score and p-value in the following cell.  If you are using the `ztest`, the provided code will extract the z_score and p_value from `ztest_result`:"
   ]
  },
  {
   "cell_type": "code",
   "execution_count": 3,
   "metadata": {
    "deletable": false,
    "nbgrader": {
     "cell_type": "code",
     "checksum": "52ecd1f7c6fd637a78a155fac9b4bbb4",
     "grade": false,
     "grade_id": "cell-73019716433eb5e2",
     "locked": false,
     "schema_version": 3,
     "solution": true,
     "task": false
    }
   },
   "outputs": [
    {
     "data": {
      "text/plain": [
       "(3.545145644038473, 0.0003923962029647485)"
      ]
     },
     "execution_count": 3,
     "metadata": {},
     "output_type": "execute_result"
    }
   ],
   "source": [
    "from statsmodels.stats.weightstats import ztest\n",
    "\n",
    "# Run a two-sided z-test:\n",
    "ztest_result = ztest(df[\"Hours of Sleep\"],value = 6.8)\n",
    "\n",
    "\n",
    "\n",
    "z_score, p_value = ztest_result\n",
    "ztest_result"
   ]
  },
  {
   "cell_type": "code",
   "execution_count": 4,
   "metadata": {
    "deletable": false,
    "editable": false,
    "nbgrader": {
     "cell_type": "code",
     "checksum": "244d4fa85ee863acc172a118f82e2790",
     "grade": true,
     "grade_id": "cell-aee5d44c0d1453a7",
     "locked": true,
     "points": 1,
     "schema_version": 3,
     "solution": false,
     "task": false
    }
   },
   "outputs": [
    {
     "name": "stdout",
     "output_type": "stream",
     "text": [
      "🎉 All tests passed! 🎉\n",
      "- z-score: 3.545145644038473\n",
      "- p-value: 0.0003923962029647485\n"
     ]
    }
   ],
   "source": [
    "# == TEST CASES for Puzzle 1a ==\n",
    "# - This read-only cell contains test cases for your previous cell(s).\n",
    "# - If this cell runs without any errors in the output, you PASSED all test cases!\n",
    "# - If this cell results errors, check you previous cell, make changes, and RE-RUN your code and then this cell.\n",
    "import math\n",
    "assert(math.isclose(z_score, 3.545145644038473)), \"You z statistics does not seem correct. Make sure you pick the same formula\"\n",
    "assert(math.isclose(p_value, 0.0003923962029647485)), \"You p-value statistics does not seem correct.\"\n",
    "assert(z_score == ztest_result[0] and p_value == ztest_result[1]), \"You did not appear to have run a ztest.\"\n",
    "\n",
    "## == SUCCESS MESSAGE ==\n",
    "# You will only see this message (with the emoji showing) if you passed all test cases:\n",
    "tada = \"\\N{PARTY POPPER}\"\n",
    "print(f\"{tada} All tests passed! {tada}\")\n",
    "print(f\"- z-score: {z_score}\")\n",
    "print(f\"- p-value: {p_value}\")"
   ]
  },
  {
   "cell_type": "markdown",
   "metadata": {
    "deletable": false,
    "editable": false,
    "nbgrader": {
     "cell_type": "markdown",
     "checksum": "fb73ab1807708ecaad4601c014918893",
     "grade": false,
     "grade_id": "cell-0d923f06aa55df71",
     "locked": true,
     "schema_version": 3,
     "solution": false
    }
   },
   "source": [
    "### Part 1b: Confidence Intervals:\n",
    "We can also use our p-value to find a range of values that likely would contain an unknown population parameter, also known as a confidence interval. Luckily, Python has a built-in function for finding confidence intervals, which takes in a data frame as its first argument, and a confidence level as the second argument.\n",
    "\n",
    "Here is the documentation for finding a Bayesian confidence interval using Python: https://docs.scipy.org/doc/scipy-0.13.0/reference/generated/scipy.stats.bayes_mvs.html\n",
    "\n",
    "- Using what you learned in lecture, look to understand how to use this function. :)\n",
    "\n",
    "\n",
    "#### Your Program\n",
    "\n",
    "Use the function to find a **80% confidence interval** for the average hours of sleep in the following cell.  Store the result of the `bayes_mvs` into the variable `confidence_80`:\n"
   ]
  },
  {
   "cell_type": "code",
   "execution_count": 6,
   "metadata": {
    "deletable": false,
    "nbgrader": {
     "cell_type": "code",
     "checksum": "82a4632c2e61d0a279699375d04cba6f",
     "grade": false,
     "grade_id": "cell-fc9e25f78e13593c",
     "locked": false,
     "schema_version": 3,
     "solution": true,
     "task": false
    }
   },
   "outputs": [
    {
     "data": {
      "text/plain": [
       "Mean(statistic=7.217582417582417, minmax=(7.065512228419144, 7.36965260674569))"
      ]
     },
     "execution_count": 6,
     "metadata": {},
     "output_type": "execute_result"
    }
   ],
   "source": [
    "from scipy.stats import bayes_mvs\n",
    "\n",
    "# find a confidence interval with a level of 80% confidence\n",
    "confidence_80 = bayes_mvs(df[\"Hours of Sleep\"],0.8)\n",
    "\n",
    "\n",
    "confidence_80[0]"
   ]
  },
  {
   "cell_type": "markdown",
   "metadata": {
    "deletable": false,
    "editable": false,
    "nbgrader": {
     "cell_type": "markdown",
     "checksum": "ecdfb90b9a7efd342f38a14323d56761",
     "grade": false,
     "grade_id": "cell-0d923f06aa55df72",
     "locked": true,
     "schema_version": 3,
     "solution": false
    }
   },
   "source": [
    "Now find a confidence interval with a level of 95% confidence. Notice the difference in the range of these intervals and how they change the more and more confident we become."
   ]
  },
  {
   "cell_type": "code",
   "execution_count": 7,
   "metadata": {
    "deletable": false,
    "nbgrader": {
     "cell_type": "code",
     "checksum": "6721205294b78ff0e4e4a91a0ddcc1d1",
     "grade": false,
     "grade_id": "cell-a2c0a263161f314d",
     "locked": false,
     "schema_version": 3,
     "solution": true,
     "task": false
    }
   },
   "outputs": [
    {
     "data": {
      "text/plain": [
       "Mean(statistic=7.217582417582417, minmax=(6.983572184744944, 7.451592650419889))"
      ]
     },
     "execution_count": 7,
     "metadata": {},
     "output_type": "execute_result"
    }
   ],
   "source": [
    "# find a confidence interval with a level of 95% confidence\n",
    "confidence_95 = bayes_mvs(df[\"Hours of Sleep\"],0.95)\n",
    "\n",
    "\n",
    "confidence_95[0]"
   ]
  },
  {
   "cell_type": "code",
   "execution_count": 8,
   "metadata": {
    "deletable": false,
    "editable": false,
    "nbgrader": {
     "cell_type": "code",
     "checksum": "fdde7cddf039a78c508af8a57283b897",
     "grade": true,
     "grade_id": "cell-23cd8829704675cd",
     "locked": true,
     "points": 1,
     "schema_version": 3,
     "solution": false,
     "task": false
    }
   },
   "outputs": [
    {
     "name": "stdout",
     "output_type": "stream",
     "text": [
      "🎉 All tests passed! 🎉\n",
      "- 80% interval: [7.065512228419144 - 7.36965260674569] hours of sleep\n",
      "- 95% interval: [6.983572184744944 - 7.451592650419889] hours of sleep\n",
      "\n"
     ]
    }
   ],
   "source": [
    "# == TEST CASES for Puzzle 1b ==\n",
    "# - This read-only cell contains test cases for your previous cell(s).\n",
    "# - If this cell runs without any errors in the output, you PASSED all test cases!\n",
    "# - If this cell results errors, check you previous cell, make changes, and RE-RUN your code and then this cell.\n",
    "import math\n",
    "\n",
    "# Min/max for `confidence_80`\n",
    "assert(math.isclose(confidence_80[0][1][0], 7.065512228419144)), \"Your confidence_80 does not seem correct.\"\n",
    "assert(math.isclose(confidence_80[0][1][1], 7.36965260674569)), \"Your confidence_80 does not seem correct.\"\n",
    "\n",
    "# Min/max for `confidence_95`\n",
    "assert(math.isclose(confidence_95[0][1][0], 6.983572184744944)), \"Your confidence_95 does not seem correct.\"\n",
    "assert(math.isclose(confidence_95[0][1][1], 7.451592650419889)), \"Your confidence_95 does not seem correct.\"\n",
    "\n",
    "\n",
    "\n",
    "## == SUCCESS MESSAGE ==\n",
    "# You will only see this message (with the emoji showing) if you passed all test cases:\n",
    "tada = \"\\N{PARTY POPPER}\"\n",
    "print(f\"{tada} All tests passed! {tada}\")\n",
    "print(f\"- 80% interval: [{confidence_80[0][1][0]} - {confidence_80[0][1][1]}] hours of sleep\")\n",
    "print(f\"- 95% interval: [{confidence_95[0][1][0]} - {confidence_95[0][1][1]}] hours of sleep\")\n",
    "print()\n",
    "\n"
   ]
  },
  {
   "cell_type": "markdown",
   "metadata": {
    "deletable": false,
    "editable": false,
    "nbgrader": {
     "cell_type": "markdown",
     "checksum": "1fe55abfbd12b6abbc9c2cb82ee05956",
     "grade": false,
     "grade_id": "cell-2ad0424311f9b554",
     "locked": true,
     "schema_version": 3,
     "solution": false
    }
   },
   "source": [
    "### Part 1c: Connect the p value result with your original hypotheses :\n",
    "\n",
    "We know what the **p-value** is now! But as a data scientist, it's important to explain your results in a way that anyone (even someone who has no background in statistics) can understand. If we just said \"Here is the p-value\", they may be confused. We need to be more specific about our conclusion. \n",
    "\n",
    "In the following cell, delete the statements that you do not believe are true and keep the one you believe is correct.\n"
   ]
  },
  {
   "cell_type": "code",
   "execution_count": 9,
   "metadata": {
    "deletable": false,
    "nbgrader": {
     "cell_type": "code",
     "checksum": "3c17d0d6be11a6047d6880139c73bc03",
     "grade": false,
     "grade_id": "cell-0f84432fe81139e8",
     "locked": false,
     "schema_version": 3,
     "solution": true
    }
   },
   "outputs": [],
   "source": [
    "# Remove 2 the of the following lines to leave only the correct answer:\n",
    "#conclusion = \"There is not enough evidence to reject the null hypothesis. Thus, DO NOT reject the Null\"\n",
    "#conclusion = \"We cannot infer anything!\"\n",
    "conclusion = \"There is enough evidence to reject the null hypothesis. Thus, DO reject the Null\"\n",
    "\n",
    "\n"
   ]
  },
  {
   "cell_type": "code",
   "execution_count": 10,
   "metadata": {
    "deletable": false,
    "editable": false,
    "nbgrader": {
     "cell_type": "code",
     "checksum": "1b5108864e0b4435ae3a617d12aeda11",
     "grade": true,
     "grade_id": "cell-119c28992fed3d21",
     "locked": true,
     "points": 1,
     "schema_version": 3,
     "solution": false
    }
   },
   "outputs": [
    {
     "name": "stdout",
     "output_type": "stream",
     "text": [
      "🎉 All tests passed! 🎉\n",
      "\n"
     ]
    }
   ],
   "source": [
    "## == TEST CASES for Puzzle 1 ==\n",
    "# - This read-only cell contains test cases for your previous cell(s).\n",
    "# - If this cell runs without any errors in the output, you PASSED all test cases!\n",
    "# - If this cell results errors, check you previous cell, make changes, and RE-RUN your code and then this cell.\n",
    "assert(conclusion.split()[2][3::-1] == \"uone\"), \"Your conclusion does not seem correct. Think about more!\"\n",
    "\n",
    "## == SUCCESS MESSAGE ==\n",
    "# You will only see this message (with the emoji showing) if you passed all test cases:\n",
    "tada = \"\\N{PARTY POPPER}\"\n",
    "print(f\"{tada} All tests passed! {tada}\")\n",
    "print()\n"
   ]
  },
  {
   "cell_type": "markdown",
   "metadata": {
    "deletable": false,
    "editable": false,
    "nbgrader": {
     "cell_type": "markdown",
     "checksum": "169735b4a6bbf7c0bf36b6df20d80c01",
     "grade": false,
     "grade_id": "cell-722be1202894fc00",
     "locked": true,
     "schema_version": 3,
     "solution": false,
     "task": false
    }
   },
   "source": [
    "## Puzzle 2: Who loves sleep more?\n",
    "\n",
    "We are curious if there is a significant difference in ideal hours of sleep between introverts and ambiverts in college. We are specifically interested in whether introverts sleep **less than** extroverts.\n",
    "\n",
    "We can investiage this using our Day 1 Dataset as well!  Here, assume that the Day 1 Dataset is a random sample taken from all college students.\n",
    "\n",
    "Do a hypothesis test to satisfy our curiosity! As always, first you need to state your hypotheses."
   ]
  },
  {
   "cell_type": "markdown",
   "metadata": {},
   "source": [
    "### Part 2a: Null and Alternative Hypothesis\n",
    "\n",
    "### Null Hypothesis\n",
    "\n",
    "$H_0$ := Introvert.Mean = Extrovert.Mean\n",
    "\n",
    "### Alternative Hypothesis\n",
    "\n",
    "$H_a$ := Introvert.Mean < Extrovert.Mean"
   ]
  },
  {
   "cell_type": "markdown",
   "metadata": {
    "deletable": false,
    "editable": false,
    "nbgrader": {
     "cell_type": "markdown",
     "checksum": "dae3a5ea766a45c8aa4db72666b5b024",
     "grade": false,
     "grade_id": "cell-5837a60767372d01",
     "locked": true,
     "schema_version": 3,
     "solution": false,
     "task": false
    }
   },
   "source": [
    "### Part 2b: P-value:\n",
    "\n",
    "Calculate your test statistic and find the p-value. Remember, we are comparing two samples now- think about how this is different from Puzzle 1 and what type of z-test to do!\n",
    "\n",
    "Find the **p-value** in the following cell: "
   ]
  },
  {
   "cell_type": "code",
   "execution_count": 11,
   "metadata": {
    "deletable": false,
    "nbgrader": {
     "cell_type": "code",
     "checksum": "0394ca305ca5e95e0c20aa0bfd0c4608",
     "grade": false,
     "grade_id": "cell-6c8eb2d2b6927e26",
     "locked": false,
     "schema_version": 3,
     "solution": true,
     "task": false
    }
   },
   "outputs": [
    {
     "data": {
      "text/plain": [
       "(-0.7208202957997942, 0.47102008654087113)"
      ]
     },
     "execution_count": 11,
     "metadata": {},
     "output_type": "execute_result"
    }
   ],
   "source": [
    "\n",
    "\n",
    "df_I = df[df['Personality']==\"Introvert\"]\n",
    "df_E = df[df['Personality']==\"Extrovert\"]\n",
    "\n",
    "\n",
    "\n",
    "# Run a two-sample ztest comparing introverts and extrverts:\n",
    "ztest_result = ztest(df_I[\"Hours of Sleep\"],df_E[\"Hours of Sleep\"],value = 0)\n",
    "\n",
    "\n",
    "\n",
    "z_score = ztest_result[0]\n",
    "p_value = ztest_result[1]\n",
    "ztest_result"
   ]
  },
  {
   "cell_type": "code",
   "execution_count": 12,
   "metadata": {
    "deletable": false,
    "editable": false,
    "nbgrader": {
     "cell_type": "code",
     "checksum": "8343c2e68b1804bc90cce2104aad9eef",
     "grade": true,
     "grade_id": "cell-7bd5b9e9b0bf72b8",
     "locked": true,
     "points": 1,
     "schema_version": 3,
     "solution": false
    }
   },
   "outputs": [
    {
     "name": "stdout",
     "output_type": "stream",
     "text": [
      "🎉 All tests passed! 🎉\n",
      "- z-score: -0.7208202957997942\n",
      "- p-value: 0.47102008654087113\n"
     ]
    }
   ],
   "source": [
    "## == TEST CASES for Puzzle 3 ==\n",
    "# - This read-only cell contains test cases for your previous cell(s).\n",
    "# - If this cell runs without any errors in the output, you PASSED all test cases!\n",
    "# - If this cell results errors, check you previous cell, make changes, and RE-RUN your code and then this cell.\n",
    "import math\n",
    "assert(math.isclose(z_score, -0.7208202957997942)), \"You z statistics does not seem correct.\"\n",
    "assert(math.isclose(p_value, 0.47102008654087113)), \"You p-value statistics does not seem correct.\"\n",
    "assert(z_score == ztest_result[0] and p_value == ztest_result[1]), \"You did not appear to have run a ztest.\"\n",
    "\n",
    "## == SUCCESS MESSAGE ==\n",
    "# You will only see this message (with the emoji showing) if you passed all test cases:\n",
    "tada = \"\\N{PARTY POPPER}\"\n",
    "print(f\"{tada} All tests passed! {tada}\")\n",
    "print(f\"- z-score: {z_score}\")\n",
    "print(f\"- p-value: {p_value}\")"
   ]
  },
  {
   "cell_type": "markdown",
   "metadata": {
    "deletable": false,
    "editable": false,
    "nbgrader": {
     "cell_type": "markdown",
     "checksum": "3af5e5b04ad5e8e4ce9f478c07dc3918",
     "grade": false,
     "grade_id": "cell-24f0911557031751",
     "locked": true,
     "schema_version": 3,
     "solution": false,
     "task": false
    }
   },
   "source": [
    "### Part 2c: Make a conclusion based on your p-value.\n",
    "\n",
    "We know what the **p-value** is now. So in the following cell delete the statements that you do not believe are true and keep the one you think is true.  Use 1% as your cutoff instead of 5%."
   ]
  },
  {
   "cell_type": "code",
   "execution_count": 13,
   "metadata": {
    "deletable": false,
    "nbgrader": {
     "cell_type": "code",
     "checksum": "7e8d70ce70e3c16dc4425e97f4142f91",
     "grade": false,
     "grade_id": "cell-5f2236ee09b8ae71",
     "locked": false,
     "schema_version": 3,
     "solution": true
    }
   },
   "outputs": [],
   "source": [
    "# Remove the of the following lines to leave only the correct answer:\n",
    "#conclusion = \"There is enough evidence to reject the null hypothesis. Thus, DO reject the Null\"\n",
    "#conclusion = \"We cannot infer anything!\"\n",
    "conclusion = \"There is not enough evidence to reject the null hypothesis. Thus, DO NOT reject the Null\"\n",
    "\n"
   ]
  },
  {
   "cell_type": "code",
   "execution_count": 14,
   "metadata": {
    "deletable": false,
    "editable": false,
    "nbgrader": {
     "cell_type": "code",
     "checksum": "1ccf19c348a4ff461193ce7343904bb4",
     "grade": true,
     "grade_id": "cell-5ba76e5cb1428aa4",
     "locked": true,
     "points": 1,
     "schema_version": 3,
     "solution": false
    }
   },
   "outputs": [
    {
     "name": "stdout",
     "output_type": "stream",
     "text": [
      "🎉 All tests passed! 🎉\n",
      "\n"
     ]
    }
   ],
   "source": [
    "## == TEST CASES for Puzzle 3 ==\n",
    "# - This read-only cell contains test cases for your previous cell(s).\n",
    "# - If this cell runs without any errors in the output, you PASSED all test cases!\n",
    "# - If this cell results errors, check you previous cell, make changes, and RE-RUN your code and then this cell.\n",
    "assert(conclusion.split()[2][3::-1]  == \"ton\"), \"Your conclusion does not seem correct. Think about more!\"\n",
    "\n",
    "## == SUCCESS MESSAGE ==\n",
    "# You will only see this message (with the emoji showing) if you passed all test cases:\n",
    "tada = \"\\N{PARTY POPPER}\"\n",
    "print(f\"{tada} All tests passed! {tada}\")\n",
    "print()\n"
   ]
  },
  {
   "cell_type": "markdown",
   "metadata": {},
   "source": [
    "### Puzzle 3: GPA Visualization\n",
    "\n",
    "Using Wade's [Grade disparity between sections at UIUC](http://waf.cs.illinois.edu/discovery/grade_disparity_between_sections_at_uiuc/) visualization, find the average grade Wade gave to CS 225 students.\n",
    "\n",
    "You want to check if Wade was completely honest with his grades, so you randomly survey 107 students who have taken CS 225.  The final grades the students gave you is out of 1000 points.  You have recorded the 107 student grades in `cs225-final-grades.csv`.  (*These are really 107 randomly chosen grades from CS 225 from Fall 2018.*)\n",
    "\n",
    "You find that the translation between points and grades is as follows:\n",
    "\n",
    "| Points | Grade | GPA |\n",
    "| ------ | ----- | --- |\n",
    "| 1070 - 1100 | A+ | 4.0 |\n",
    "|  930 - 1070 | A  | 4.0 |\n",
    "|  900 - 930 | A-  | 3.67 |\n",
    "|  870 - 900 | B+  | 3.33 |\n",
    "|  830 - 870 | B   | 3.0 |\n",
    "|  800 - 830 | B-  | 2.67 |\n",
    "|  770 - 800 | C+  | 2.33 |\n",
    "|  730 - 770 | C   | 2.0 |\n",
    "|  700 - 730 | C-  | 1.67 |\n",
    "|  670 - 700 | D+  | 1.33 |\n",
    "|  630 - 670 | D   | 1.0 |\n",
    "|  600 - 630 | D-  | 0.67 |\n",
    "|    0 - 600 | F  | 0 |\n",
    "\n",
    "**Hint**: You will need to process `cs225-final-grades.csv` and understand and gather data from the GPA visualization before you will be able to run the test.  Use `pandas` to help you process this data! :)"
   ]
  },
  {
   "cell_type": "code",
   "execution_count": null,
   "metadata": {},
   "outputs": [],
   "source": []
  },
  {
   "cell_type": "code",
   "execution_count": 94,
   "metadata": {
    "deletable": false,
    "nbgrader": {
     "cell_type": "code",
     "checksum": "ee6fb4652c4fb6461a4adec117bf8557",
     "grade": false,
     "grade_id": "cell-053f4c444b109148",
     "locked": false,
     "schema_version": 3,
     "solution": true
    }
   },
   "outputs": [
    {
     "data": {
      "text/plain": [
       "107"
      ]
     },
     "execution_count": 94,
     "metadata": {},
     "output_type": "execute_result"
    }
   ],
   "source": [
    "# First read the data cs225-final-grades.csv\n",
    "sample_cs225 = pd.read_csv(\"cs225-final-grades.csv\")\n",
    "\n",
    "# Procecess sample_cs225 to convert to GPA format. \n",
    "# - The `sample_cs225` must contain a GPA column with the GPA as a numeric value.\n",
    "\n",
    "\n",
    "\n",
    "\n",
    "\n",
    "for i in range(107):\n",
    "    x = sample_cs225.loc[i, 'CS 225 Final Grade']\n",
    "    \n",
    "    if x >= 930:\n",
    "        sample_cs225.loc[i, 'GPA'] = 4\n",
    "    elif x >= 900 and x< 930:\n",
    "        sample_cs225.loc[i, 'GPA']= 3.67\n",
    "    elif x >=870 and x< 900:\n",
    "        sample_cs225.loc[i, 'GPA']= 3.33\n",
    "    elif x >= 830 and x< 870:\n",
    "        sample_cs225.loc[i, 'GPA']= 3.00\n",
    "    elif x >=800 and x< 830:\n",
    "        sample_cs225.loc[i, 'GPA']= 2.67\n",
    "    elif x >=770 and x< 800:\n",
    "        sample_cs225.loc[i, 'GPA']= 2.33\n",
    "    elif x >=730 and x< 770:\n",
    "        sample_cs225.loc[i, 'GPA']= 2.00\n",
    "    elif x >=700 and x< 730:\n",
    "        sample_cs225.loc[i, 'GPA']= 1.67\n",
    "    elif x >=670 and x< 700:\n",
    "        sample_cs225.loc[i, 'GPA']= 1.33\n",
    "    elif x >=630 and x< 670:\n",
    "        sample_cs225.loc[i, 'GPA']= 1.00\n",
    "    elif x >=600 and x< 630:\n",
    "        sample_cs225.loc[i, 'GPA']= 0.67\n",
    "    else:\n",
    "        sample_cs225.loc[i, 'GPA']= 0\n",
    "sample_cs225.head(5)\n",
    "len(sample_cs225)"
   ]
  },
  {
   "cell_type": "code",
   "execution_count": 93,
   "metadata": {
    "deletable": false,
    "editable": false,
    "nbgrader": {
     "cell_type": "code",
     "checksum": "0221c62e110ddf8b756e1b296dabff05",
     "grade": true,
     "grade_id": "cell-0544cc08b9b64325",
     "locked": true,
     "points": 1,
     "schema_version": 3,
     "solution": false
    }
   },
   "outputs": [
    {
     "name": "stdout",
     "output_type": "stream",
     "text": [
      "🎉 All tests passed! 🎉\n",
      "\n"
     ]
    }
   ],
   "source": [
    "## == TEST CASES for Puzzle 3a ==\n",
    "# - This read-only cell contains test cases for your previous cell(s).\n",
    "# - If this cell runs without any errors in the output, you PASSED all test cases!\n",
    "# - If this cell results errors, check you previous cell, make changes, and RE-RUN your code and then this cell.\n",
    "assert(len(sample_cs225[sample_cs225[\"GPA\"] == 3.67]) == 7), \"Your convertion from the total points to GPA does not seem correct.\"\n",
    "assert(len(sample_cs225[sample_cs225[\"GPA\"] == 0]) == 7), \"Your convertion from the total points to GPA does not seem correct.\"\n",
    "\n",
    "\n",
    "## == SUCCESS MESSAGE ==\n",
    "# You will only see this message (with the emoji showing) if you passed all test cases:\n",
    "tada = \"\\N{PARTY POPPER}\"\n",
    "print(f\"{tada} All tests passed! {tada}\")\n",
    "print()"
   ]
  },
  {
   "cell_type": "markdown",
   "metadata": {},
   "source": [
    "### Part 3a: Hypotheses\n",
    "\n",
    "Just like before, start with stating your Null and Alternative Hypotheses!\n",
    "\n",
    "### Null Hypothesis\n",
    "\n",
    "$H_0$ := sample.AVG - pop.AVG = 0\n",
    "\n",
    "### Alternative Hypothesis\n",
    "\n",
    "$H_a$ := sample.AVG - pop.AVG != 0"
   ]
  },
  {
   "cell_type": "markdown",
   "metadata": {
    "deletable": false,
    "editable": false,
    "nbgrader": {
     "cell_type": "markdown",
     "checksum": "e22acae5b115307f38f04c8561089aab",
     "grade": false,
     "grade_id": "cell-fac0da7c79fba6b7",
     "locked": true,
     "schema_version": 3,
     "solution": false,
     "task": false
    }
   },
   "source": [
    "### Part 3b: P-value\n",
    "Calculate the test statistic and find the p-value in the following cell:"
   ]
  },
  {
   "cell_type": "code",
   "execution_count": 99,
   "metadata": {
    "deletable": false,
    "nbgrader": {
     "cell_type": "code",
     "checksum": "f015fe3e00316c2f099e98ddd0868878",
     "grade": false,
     "grade_id": "cell-26dab0ff60b63979",
     "locked": false,
     "schema_version": 3,
     "solution": true
    }
   },
   "outputs": [
    {
     "data": {
      "text/plain": [
       "(1.5016743453565295, 0.1331812325552574)"
      ]
     },
     "execution_count": 99,
     "metadata": {},
     "output_type": "execute_result"
    }
   ],
   "source": [
    "\n",
    "\n",
    "# Run a one-sample z-test\n",
    "ztest_result = ztest(sample_cs225['GPA'],value = 3.22)\n",
    "\n",
    "\n",
    "\n",
    "z_score = ztest_result[0]\n",
    "p_value = ztest_result[1]\n",
    "ztest_result"
   ]
  },
  {
   "cell_type": "code",
   "execution_count": 100,
   "metadata": {
    "deletable": false,
    "editable": false,
    "nbgrader": {
     "cell_type": "code",
     "checksum": "3c3c15af53f39298c6c832025fe9ca9b",
     "grade": true,
     "grade_id": "cell-08a0447915dbc44c",
     "locked": true,
     "points": 1,
     "schema_version": 3,
     "solution": false
    }
   },
   "outputs": [
    {
     "name": "stdout",
     "output_type": "stream",
     "text": [
      "🎉 All tests passed! 🎉\n",
      "\n"
     ]
    }
   ],
   "source": [
    "# == TEST CASES for Puzzle 3b ==\n",
    "# - This read-only cell contains test cases for your previous cell(s).\n",
    "# - If this cell runs without any errors in the output, you PASSED all test cases!\n",
    "# - If this cell results errors, check you previous cell, make changes, and RE-RUN your code and then this cell.\n",
    "assert(round(z_score,1) == 1.5), \"You z statistics does not seem correct. Make sure you pick the same formula\"\n",
    "assert(round(p_value,1) == 0.1), \"You p-value statistics does not seem correct.\"\n",
    "\n",
    "\n",
    "## == SUCCESS MESSAGE ==\n",
    "# You will only see this message (with the emoji showing) if you passed all test cases:\n",
    "tada = \"\\N{PARTY POPPER}\"\n",
    "print(f\"{tada} All tests passed! {tada}\")\n",
    "print()"
   ]
  },
  {
   "cell_type": "markdown",
   "metadata": {
    "deletable": false,
    "editable": false,
    "nbgrader": {
     "cell_type": "markdown",
     "checksum": "fe5e05d4cde64a72391edf717145e262",
     "grade": false,
     "grade_id": "cell-f0fc4e80f147831d",
     "locked": true,
     "schema_version": 3,
     "solution": false,
     "task": false
    }
   },
   "source": [
    "## Submit Your Work!\n",
    "\n",
    "You're almost done -- congratulations!\n",
    "\n",
    "You need to do a few more things:\n",
    "\n",
    "1. Save your work.  To do this, create a **notebook checkpoint** by using the menu within the notebook to go **File -> Save and Checkpoint**\n",
    "\n",
    "2. Choose `File` and then `Close and Halt` from this notebook.\n",
    "\n",
    "3. Choose `Quit` on the main notebook webpage.\n",
    "\n",
    "4. Return to your command line and follow the directions on the Data Science Discovery page on how to use git to turn this notebook into the course!"
   ]
  }
 ],
 "metadata": {
  "kernelspec": {
   "display_name": "Python 3",
   "language": "python",
   "name": "python3"
  },
  "language_info": {
   "codemirror_mode": {
    "name": "ipython",
    "version": 3
   },
   "file_extension": ".py",
   "mimetype": "text/x-python",
   "name": "python",
   "nbconvert_exporter": "python",
   "pygments_lexer": "ipython3",
   "version": "3.7.6"
  }
 },
 "nbformat": 4,
 "nbformat_minor": 2
}
