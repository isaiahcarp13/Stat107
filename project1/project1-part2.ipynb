{
 "cells": [
  {
   "cell_type": "code",
   "execution_count": 7,
   "metadata": {},
   "outputs": [],
   "source": [
    "import pandas as pd"
   ]
  },
  {
   "cell_type": "markdown",
   "metadata": {},
   "source": [
    "# Project 1 - Part 2\n",
    "\n",
    "This project depends on a completed Part 1.  Make sure to complete Part 1 and save the CSV file (by running the last code cell) before you start on Part 2."
   ]
  },
  {
   "cell_type": "markdown",
   "metadata": {},
   "source": [
    "## Part 2a: Finding the Average Color of a Region of an Image\n",
    "\n",
    "In Part 1, you found the average color of an image.  For this part, find the average color of a region of the image array `lab`, a starting location (`x` and `y`), and a `width` and `height`.  You need to return the same data type as in Part 1 (a dictionary with `L`, `a`, and `b`).\n",
    "\n",
    "*(Hint: Your source code from Part 1 should help you out here!)*"
   ]
  },
  {
   "cell_type": "code",
   "execution_count": 1,
   "metadata": {
    "deletable": false,
    "nbgrader": {
     "cell_type": "code",
     "checksum": "e5f850a02f8a409b6248ccd36b4f9587",
     "grade": false,
     "grade_id": "cell-8696f7ce092e5e9c",
     "locked": false,
     "schema_version": 3,
     "solution": true,
     "task": false
    }
   },
   "outputs": [],
   "source": [
    "import pandas as pd\n",
    "import skimage\n",
    "import PIL\n",
    "import numpy as np\n",
    "\n",
    "\n",
    "\n",
    "def findAverageColor(lab, start_x, start_y, width, height):\n",
    "    data = []\n",
    "    for x in range(start_x, start_x+width):\n",
    "        for y in range(start_y, start_y+height):\n",
    "            L, a, b = lab[x][y]\n",
    "            d = {'L':L,'a':a,'b':b}\n",
    "            data.append(d)\n",
    "            \n",
    "    df = pd.DataFrame(data)\n",
    "    L_C = df['L'].sum()\n",
    "    a_C = df['a'].sum() \n",
    "    b_C = df['b'].sum()\n",
    "    \n",
    "    pixels = width * height\n",
    "    \n",
    "    \n",
    "    L_avg = L_C /pixels\n",
    "    a_avg = a_C/pixels\n",
    "    b_avg = b_C/pixels\n",
    "    \n",
    "    f = {'L':L_avg,'a':a_avg, 'b':b_avg}\n",
    "    return f\n",
    "            \n",
    "    \n",
    "\n",
    "    \n",
    "    \n",
    "    \n",
    "\n",
    "    "
   ]
  },
  {
   "cell_type": "code",
   "execution_count": 2,
   "metadata": {
    "deletable": false,
    "editable": false,
    "nbgrader": {
     "cell_type": "code",
     "checksum": "ab3162d4488d72c962d314b87a1fa5d0",
     "grade": true,
     "grade_id": "cell-d0f665ec48a6615e",
     "locked": true,
     "points": 1,
     "schema_version": 3,
     "solution": false,
     "task": false
    }
   },
   "outputs": [
    {
     "name": "stdout",
     "output_type": "stream",
     "text": [
      "ℹ Your test.png values (0, 0) -> (4, 4): (L=47.19722525581814, a=49.03421116311882, b=38.60877549417686)\n",
      "ℹ Your test.png values (0, 0) -> (2, 2): (L=54.244093289693964, a=59.3141053878179, b=52.979879933089656)\n",
      "ℹ Your test3.png values start=(0, 0) w/ width=4, height=6: (L=46.41423991872082, a=47.89200069370781, b=37.01198611207544)\n",
      "ℹ Your test3.png values start=(0, 0) w/ width=4, height=2: (L=54.244093289693964, a=59.3141053878179, b=52.979879933089656)\n",
      "ℹ Your test3.png values start=(2, 2) w/ width=2, height=2: (L=26.05662115419064, a=18.194528489021575, b=-4.504537822561539)\n",
      "ℹ Your test3.png values start=(2, 2) w/ width=2, height=1: (L=16.660797109022866, a=4.488002856089468, b=-23.666010407778604)\n",
      "ℹ Your test3.png values start=(3, 3) w/ width=1, height=3: (L=16.660797109022866, a=4.488002856089468, b=-23.666010407778604)\n",
      "\n",
      "🎉 All tests passed! 🎉\n"
     ]
    }
   ],
   "source": [
    "## == *CORRECTED* TEST CASES for Part 2a ==\n",
    "# - This read-only cell contains test cases for your previous cell(s).\n",
    "# - If this cell runs without any errors in the output, you PASSED all test cases!\n",
    "# - If this cell results errors, check you previous cell, make changes, and RE-RUN your code and then this cell.\n",
    "info = '\\N{INFORMATION SOURCE}'\n",
    "\n",
    "%run project1-settings.ipynb\n",
    "\n",
    "def verify(result, L, a, b, info=None):\n",
    "    import math\n",
    "    \n",
    "    assert( math.isclose( result['L'], L, rel_tol=0.01) ), f'Your `L` value is incorrect. {info}'\n",
    "    assert( math.isclose( result['a'], a, rel_tol=0.01 ) ), f'Your `a` value is incorrect. {info}'\n",
    "    assert( math.isclose( result['b'], b, rel_tol=0.01 ) ), f'Your `b` value is incorrect. {info}'\n",
    "\n",
    "\n",
    "lab1 = fileToLabArray(\"test.png\", resize=False)\n",
    "test = findAverageColor(lab1, 0, 0, 4, 4)\n",
    "\n",
    "\n",
    "# Tests for correct return type:\n",
    "assert( test != None ), \"Your findAverageColor function must return a value (right now it's returning nothing).\"\n",
    "assert( type(test) == type({}) ), f\"Your findAverageColor function must return a dictionary (right now it's returning {type(test)}).\"\n",
    "\n",
    "assert( 'L' in test ), \"Your findAverageColor must return a value for 'L'.\"\n",
    "assert( 'a' in test ), \"Your findAverageColor must return a value for 'a'.\"\n",
    "assert( 'b' in test ), \"Your findAverageColor must return a value for 'b'.\"\n",
    "\n",
    "\n",
    "# Lots of tests for correctness:\n",
    "print(f\"{info} Your test.png values (0, 0) -> (4, 4): (L={test['L']}, a={test['a']}, b={test['b']})\")\n",
    "verify( test, L=47.197, a=49.034, b=38.609 )\n",
    "\n",
    "\n",
    "test2 = findAverageColor(lab1, 0, 0, 2, 2)\n",
    "print(f\"{info} Your test.png values (0, 0) -> (2, 2): (L={test2['L']}, a={test2['a']}, b={test2['b']})\")\n",
    "verify( test2, L=54.244, a=59.314, b=52.980, info=\"This test case tests only a 2x2 pixel area of the image.  Make sure you are looking at only a width x height region and not the full image.\")\n",
    "\n",
    "\n",
    "lab3 = fileToLabArray(\"test3.png\", resize=False)\n",
    "test3 = findAverageColor(lab3, 0, 0, 4, 6)\n",
    "print(f\"{info} Your test3.png values start=(0, 0) w/ width=4, height=6: (L={test3['L']}, a={test3['a']}, b={test3['b']})\")\n",
    "verify( test3, L=46.414, a=47.892, b=37.012, info=\"This test case tests a non-square image (4x6).  Make sure you are handling non-square images correctly.\")\n",
    "\n",
    "test3 = findAverageColor(lab3, 0, 0, 4, 2)\n",
    "print(f\"{info} Your test3.png values start=(0, 0) w/ width=4, height=2: (L={test3['L']}, a={test3['a']}, b={test3['b']})\")\n",
    "verify( test3, L=54.244, a=59.314, b=52.980, info=\"This test case tests a non-square image (4x2).  Make sure you are handling non-square images correctly.\")\n",
    "\n",
    "test3 = findAverageColor(lab3, 2, 2, 2, 2)\n",
    "print(f\"{info} Your test3.png values start=(2, 2) w/ width=2, height=2: (L={test3['L']}, a={test3['a']}, b={test3['b']})\")\n",
    "verify( test3, L=26.057, a=18.195, b=-4.505, info=\"This test case tests starting at a position other than (0, 0).  Make sure you are starting at (x, y) instead of (0, 0).\")\n",
    "\n",
    "test3 = findAverageColor(lab3, 2, 2, 2, 1)\n",
    "print(f\"{info} Your test3.png values start=(2, 2) w/ width=2, height=1: (L={test3['L']}, a={test3['a']}, b={test3['b']})\")\n",
    "verify( test3, L=16.661, a=4.488, b=-23.667, info=\"This test case tests starting at a position other than (0, 0).  Make sure you are starting at (x, y) instead of (0, 0).\")\n",
    "\n",
    "test3 = findAverageColor(lab3, 3, 3, 1, 3)\n",
    "print(f\"{info} Your test3.png values start=(3, 3) w/ width=1, height=3: (L={test3['L']}, a={test3['a']}, b={test3['b']})\")\n",
    "verify( test3, L=16.661, a=4.488, b=-23.667, info=\"This test case tests starting at (3, 3) and going to (4, 6) and is the most complex yet.  You passed a lot of simpler test cases, so you have the basic algorithm down but are not calculating the correct value for non-(0, 0), non-square locations.\")\n",
    "\n",
    "\n",
    "## == SUCCESS MESSAGE ==\n",
    "# You will only see this message (with the emoji showing) if you passed all test cases:\n",
    "tada = \"\\N{PARTY POPPER}\"\n",
    "print()\n",
    "print(f\"{tada} All tests passed! {tada}\")"
   ]
  },
  {
   "cell_type": "markdown",
   "metadata": {},
   "source": [
    "## Part 2b: Finding the best match\n",
    "\n",
    "In Part 1, you saved a csv file of all tile images.  For this part, you will find the best tile image given an `L`, `a`, and `b` value and your DataFrame, passed in as `df`, in the same format as you saved in Part 1.\n",
    "\n",
    "This function must return a new DataFrame with exactly one row that contains the best match out of all of the images in `df` based on the Euclidean distance away from the provided (`L`, `a`, `b`).  *(You should not remove rows from `df` itself, as the same `df` will be passed to you each time; make sure to assign your smallest one row to a new and differently named DataFrame.)*"
   ]
  },
  {
   "cell_type": "code",
   "execution_count": 12,
   "metadata": {
    "deletable": false,
    "nbgrader": {
     "cell_type": "code",
     "checksum": "154cb633bac13492022fe475bac06484",
     "grade": false,
     "grade_id": "cell-cb3ff910dd835a51",
     "locked": false,
     "schema_version": 3,
     "solution": true,
     "task": false
    }
   },
   "outputs": [],
   "source": [
    "# Returns the filename for the image that is the best match given an L, a, and b value.\n",
    "def findBestMatch(df, L, a, b):\n",
    "    df['distance']=  ((df['L']-L)**2 + (df['a']-a)**2 + (df['b']-b)**2)**1/2\n",
    "    df_d = pd.DataFrame(df.nsmallest(1,'distance'))\n",
    "    return df_d\n",
    "        \n",
    "\n",
    "    "
   ]
  },
  {
   "cell_type": "code",
   "execution_count": 13,
   "metadata": {
    "deletable": false,
    "editable": false,
    "nbgrader": {
     "cell_type": "code",
     "checksum": "625243a9f13c44f9a92d909833182204",
     "grade": true,
     "grade_id": "cell-72eafa6774690dd4",
     "locked": true,
     "points": 1,
     "schema_version": 3,
     "solution": false,
     "task": false
    }
   },
   "outputs": [
    {
     "name": "stdout",
     "output_type": "stream",
     "text": [
      "🎉 All tests passed! 🎉\n"
     ]
    }
   ],
   "source": [
    "## == TEST CASES for Part 2b ==\n",
    "# - This read-only cell contains test cases for your previous cell(s).\n",
    "# - If this cell runs without any errors in the output, you PASSED all test cases!\n",
    "# - If this cell results errors, check you previous cell, make changes, and RE-RUN your code and then this cell.\n",
    "\n",
    "real_df = pd.DataFrame([\n",
    "    {'file': 'test.png', 'L': 47.19722525581813, 'a': 49.03421116311881, 'b': 38.60877549417687},\n",
    "    {'file': 'test2.png', 'L': 54.24409328969397, 'a': 59.3141053878179, 'b': 52.97987993308968},\n",
    "    {'file': 'test3.png', 'L': 46.41423991872082, 'a': 47.89200069370779, 'b': 37.011986112075455}\n",
    "])\n",
    "\n",
    "bestMatch = findBestMatch(real_df, 0, 0, 0)\n",
    "assert(type(bestMatch) == type(pd.DataFrame())), \"findBestMatch must return a DataFrame\"\n",
    "assert(len(bestMatch) == 1), \"findBestMatch must return exactly one best match\"\n",
    "assert(bestMatch['file'].values[0] == 'test3.png'), \"findBestMatch did not return the best match for test (L=0, a=0, b=0)\"\n",
    "\n",
    "bestMatch = findBestMatch(real_df, 47, 49, 38)\n",
    "assert(bestMatch['file'].values[0] == 'test.png'), \"findBestMatch did not return the best match for test (L=47, a=49, b=38)\"\n",
    "\n",
    "bestMatch = findBestMatch(real_df, 54, 49, 38)\n",
    "assert(bestMatch['file'].values[0] == 'test.png'), \"findBestMatch did not return the best match for test (L=54, a=49, b=38)\"\n",
    "\n",
    "bestMatch = findBestMatch(real_df, 54, 49, 52)\n",
    "assert(bestMatch['file'].values[0] == 'test2.png'), \"findBestMatch did not return the best match for test (L=54, a=49, b=52)\"\n",
    "\n",
    "bestMatch = findBestMatch(real_df, -100, -100, -100)\n",
    "assert(bestMatch['file'].values[0] == 'test3.png'), \"findBestMatch did not return the best match for test (L=-100, a=-100, b=-100)\"\n",
    "\n",
    "\n",
    "## == SUCCESS MESSAGE ==\n",
    "# You will only see this message (with the emoji showing) if you passed all test cases:\n",
    "tada = \"\\N{PARTY POPPER}\"\n",
    "print(f\"{tada} All tests passed! {tada}\")"
   ]
  },
  {
   "cell_type": "markdown",
   "metadata": {},
   "source": [
    "## Part 2c: Creating your mosaic!\n",
    "\n",
    "Finally, the following code uses your image from Part 1, your DataFrame of average colors for each image, the `findAverageColor` function from Part 2a, and `findBestMatch` function from Part 2b to draw a mosaic image!\n",
    "- Make sure `project1-settings.ipynb` has the correct file name for your base image!\n",
    "- This code will take a while to run; you may want to change some settings in `project1-settings.ipynb` while testing!"
   ]
  },
  {
   "cell_type": "code",
   "execution_count": 17,
   "metadata": {},
   "outputs": [
    {
     "name": "stdout",
     "output_type": "stream",
     "text": [
      "Loading in saved average image values...\n",
      "Loading the base image `base.jpg`...\n",
      "Creating your moasic (240 x 180 = 43200 total tiles)...\n",
      "  ...progress: 480 / 480 (100.00%)\n",
      "\n",
      "🎉 MOSAIC COMPLETE! 🎉\n",
      "- See mosaic-hq.jpg to see your HQ moasic or just mosaic.jpg for a smaller image of the same file.\n"
     ]
    }
   ],
   "source": [
    "import skimage\n",
    "import skimage.io\n",
    "\n",
    "import PIL\n",
    "from PIL import Image\n",
    "\n",
    "from os import listdir\n",
    "from os.path import isfile, join\n",
    "import sys\n",
    "import math\n",
    "\n",
    "# Run the settings notebook\n",
    "%run project1-settings.ipynb\n",
    "\n",
    "# Load the saved image data (from Part 1)\n",
    "print(\"Loading in saved average image values...\")\n",
    "df = pd.read_csv('tile-images.csv')\n",
    "\n",
    "# Load the mosaic image:\n",
    "print(f\"Loading the base image `{baseImageFile}`...\")\n",
    "baseImage = Image.open(baseImageFile)\n",
    "w, h = baseImage.size\n",
    "lab = imageToLabArray(baseImage, resize=False)\n",
    "\n",
    "# Calculate the final width/height of the mosaic image based on the tiles that will be included.\n",
    "# ...this will cut off the very edge of the image to ensure only full tiles are used.\n",
    "baseImagePixelsPerTile = math.ceil(w / maxTilesAcross)\n",
    "w_tiles = int(w / baseImagePixelsPerTile)\n",
    "h_tiles = int(h / baseImagePixelsPerTile)\n",
    "w = w_tiles * baseImagePixelsPerTile\n",
    "h = h_tiles * baseImagePixelsPerTile\n",
    "\n",
    "# Create a blnak image of the correct size to draw the final mosaic on:\n",
    "baseImage = Image.new('RGB', (outputSize * w_tiles, outputSize * h_tiles))\n",
    "\n",
    "# Store images used to speed up processing (often once an image is used once it will be used again):\n",
    "cache = {}\n",
    "\n",
    "print(f\"Creating your moasic ({w_tiles} x {h_tiles} = {w_tiles * h_tiles} total tiles)...\")\n",
    "for x in range(0, w, baseImagePixelsPerTile):\n",
    "    for y in range(0, h, baseImagePixelsPerTile):\n",
    "        # Find the average color for the current tile:\n",
    "        tileAvgColor = findAverageColor(lab, x, y, baseImagePixelsPerTile, baseImagePixelsPerTile)\n",
    "        \n",
    "        # Find the best file match:\n",
    "        df_bestMatch = findBestMatch(df, tileAvgColor['L'], tileAvgColor['a'], tileAvgColor['b'])\n",
    "        bestFileName = df_bestMatch['file'].values[0]\n",
    "        \n",
    "        # load the iamge in and resize it to be a `outputSize` x `outputSize` (or get it from the cache)\n",
    "        if bestFileName in cache:\n",
    "            smallTile = cache[bestFileName]\n",
    "        else:\n",
    "            tileImage = Image.open(bestFileName)\n",
    "            smallTile = imageResizeToOutputSize(tileImage)\n",
    "            cache[bestFileName] = smallTile\n",
    "        \n",
    "        # Draw the tile:\n",
    "        baseImage.paste(smallTile, ( int((x / baseImagePixelsPerTile) * outputSize), int((y / baseImagePixelsPerTile) * outputSize)))\n",
    "        \n",
    "    # Print out a progress message:\n",
    "    completed = int((x / baseImagePixelsPerTile) + 1) * baseImagePixelsPerTile\n",
    "    pct = completed / (w_tiles * baseImagePixelsPerTile) * 100\n",
    "    sys.stdout.write(f'\\r  ...progress: {completed} / {w_tiles * baseImagePixelsPerTile} ({pct:.2f}%)')\n",
    "\n",
    "# Save the image as mosaic-hq.jpg\n",
    "baseImage.save('mosaic-hd.jpg')\n",
    "\n",
    "# Save a smaller image as mosaic.jpg\n",
    "d = max(w, h)\n",
    "factor = d / 4000\n",
    "if factor <= 1:\n",
    "    factor = 1\n",
    "\n",
    "small_w = w / factor\n",
    "small_h = h / factor    \n",
    "baseImage = baseImage.resize( (int(small_w), int(small_h)), resample=PIL.Image.LANCZOS )\n",
    "baseImage.save('mosaic.jpg')\n",
    "\n",
    "\n",
    "# Print a message:\n",
    "tada = \"\\N{PARTY POPPER}\"\n",
    "print(\"\")\n",
    "print(\"\")\n",
    "print(f\"{tada} MOSAIC COMPLETE! {tada}\")\n",
    "print(\"- See mosaic-hq.jpg to see your HQ moasic or just mosaic.jpg for a smaller image of the same file.\")"
   ]
  },
  {
   "cell_type": "markdown",
   "metadata": {},
   "source": [
    "## Have Fun!\n",
    "\n",
    "Use Part 1 whenever you change your tile images and Part 2 to build image mosaics -- you will forever be able to build image mosaics now! :D"
   ]
  }
 ],
 "metadata": {
  "kernelspec": {
   "display_name": "Python 3",
   "language": "python",
   "name": "python3"
  },
  "language_info": {
   "codemirror_mode": {
    "name": "ipython",
    "version": 3
   },
   "file_extension": ".py",
   "mimetype": "text/x-python",
   "name": "python",
   "nbconvert_exporter": "python",
   "pygments_lexer": "ipython3",
   "version": "3.7.6"
  }
 },
 "nbformat": 4,
 "nbformat_minor": 2
}
