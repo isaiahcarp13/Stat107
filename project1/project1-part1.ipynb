{
 "cells": [
  {
   "cell_type": "markdown",
   "metadata": {},
   "source": [
    "# Project 1 Notebook\n",
    "\n",
    "The overview of Project 1 is written here: http://courses.las.illinois.edu/spring2020/stat107/projects/mosaic/.  This notebook is used for coding the project with some provided starter code. :)"
   ]
  },
  {
   "cell_type": "markdown",
   "metadata": {},
   "source": [
    "## Part 1: Average Image Color\n",
    "\n",
    "Follow the guide for Project 1 to help complete your `findAverageImageColor` function:"
   ]
  },
  {
   "cell_type": "code",
   "execution_count": 35,
   "metadata": {
    "deletable": false,
    "nbgrader": {
     "cell_type": "code",
     "checksum": "b6bd089b87b2a5831e7714eadcaa3b79",
     "grade": false,
     "grade_id": "cell-0dbb8ddddc2b1de5",
     "locked": false,
     "schema_version": 3,
     "solution": true,
     "task": false
    }
   },
   "outputs": [],
   "source": [
    "import pandas as pd\n",
    "import skimage\n",
    "import PIL\n",
    "import numpy as np\n",
    "\n",
    "def findAverageImageColor(lab, width, height):\n",
    "    data = []\n",
    "    data_f = []\n",
    "    for x in range(width):\n",
    "        for y in range(height):\n",
    "            L, a, b = lab[x][y]\n",
    "            d = {'L':L,'a':a,'b':b}\n",
    "            data.append(d)\n",
    "            \n",
    "    df = pd.DataFrame(data)\n",
    "    L_C = df['L'].sum()\n",
    "    a_C = df['a'].sum() \n",
    "    b_C = df['b'].sum()\n",
    "    \n",
    "    pixels = width * height\n",
    "    \n",
    "    \n",
    "    L_avg = L_C /pixels\n",
    "    a_avg = a_C/pixels\n",
    "    b_avg = b_C/pixels\n",
    "    \n",
    "    f = {'L':L_avg,'a':a_avg, 'b':b_avg}\n",
    "    #data_f.append(f)\n",
    "    #df_f = pd.DataFrame(data_f)\n",
    "    return f\n",
    "            \n",
    "\n",
    "\n",
    "            \n",
    "    \n",
    "    \n",
    "    "
   ]
  },
  {
   "cell_type": "markdown",
   "metadata": {},
   "source": [
    "### Part 1 -- Test Cases\n",
    "\n",
    "These test cases help you debug your code to make sure you're finding the correct average values for known images.  After you pass these test cases, then you'll start using your own images! :)"
   ]
  },
  {
   "cell_type": "code",
   "execution_count": 36,
   "metadata": {
    "deletable": false,
    "editable": false,
    "nbgrader": {
     "cell_type": "code",
     "checksum": "27724bd2fe7542c0297f308a6db06341",
     "grade": true,
     "grade_id": "cell-59256d97f4255439",
     "locked": true,
     "points": 1,
     "schema_version": 3,
     "solution": false,
     "task": false
    }
   },
   "outputs": [
    {
     "name": "stdout",
     "output_type": "stream",
     "text": [
      "ℹ Your test.png values: (L=47.19722525581814, a=49.03421116311882, b=38.60877549417686)\n",
      "ℹ Your test2.png values: (L=54.244093289693964, a=59.3141053878179, b=52.979879933089656)\n",
      "ℹ Your test3.png values: (L=46.41423991872082, a=47.89200069370781, b=37.01198611207544)\n",
      "\n",
      "🎉 All tests passed! 🎉\n"
     ]
    }
   ],
   "source": [
    "## == TEST CASES for Part 1c ==\n",
    "# - This read-only cell contains test cases for your previous cell(s).\n",
    "# - If this cell runs without any errors in the output, you PASSED all test cases!\n",
    "# - If this cell results errors, check you previous cell, make changes, and RE-RUN your code and then this cell.\n",
    "\n",
    "info = '\\N{INFORMATION SOURCE}'\n",
    "%run project1-settings.ipynb\n",
    "\n",
    "def test_findAverageImageColor(file):\n",
    "    from PIL import Image\n",
    "    image = Image.open(file)\n",
    "    w, h = image.size\n",
    "    lab = imageToLabArray(image, resize=False)\n",
    "    return findAverageImageColor(lab, w, h)\n",
    "\n",
    "test = test_findAverageImageColor('test.png')\n",
    "\n",
    "assert( test != None ), \"Your findAverageImageColor function must return a value (right now it's returning nothing).\"\n",
    "assert( type(test) == type({}) ), f\"Your findAverageImageColor function must return a dictionary (right now it's returning {type(test)}).\"\n",
    "\n",
    "assert( 'L' in test ), \"Your findAverageImageColor must return a value for 'L'.\"\n",
    "assert( 'a' in test ), \"Your findAverageImageColor must return a value for 'a'.\"\n",
    "assert( 'b' in test ), \"Your findAverageImageColor must return a value for 'b'.\"\n",
    "\n",
    "print(f\"{info} Your test.png values: (L={test['L']}, a={test['a']}, b={test['b']})\")\n",
    "assert( abs(test['L'] - 54.244) > 0.001 ), \"Your 'L' value is the value of only orange pixels.  Are you sure you are visiting every pixel?\"\n",
    "assert( abs(test['a'] - 59.314) > 0.001 ), \"Your 'a' value is the value of only orange pixels.  Are you sure you are visiting every pixel?\"\n",
    "assert( abs(test['b'] - 52.9799) > 0.001 ), \"Your 'b' value is the value of only orange pixels.  Are you sure you are visiting every pixel?\"\n",
    "\n",
    "assert( abs(test['L'] - 47.197) < 0.001 ), \"Your 'L' value is not correct on test.png.\"\n",
    "assert( abs(test['a'] - 49.034) < 0.001 ), \"Your 'a' value is not correct on test.png.\"\n",
    "assert( abs(test['b'] - 38.609) < 0.001 ), \"Your 'b' value is not correct on test.png.\"\n",
    "\n",
    "\n",
    "test2 = test_findAverageImageColor('test2.png')\n",
    "\n",
    "print(f\"{info} Your test2.png values: (L={test2['L']}, a={test2['a']}, b={test2['b']})\")\n",
    "assert( abs(test2['L'] - 54.244) < 0.001 ), \"Your 'L' value is not correct on test2.png.\"\n",
    "assert( abs(test2['a'] - 59.314) < 0.001 ), \"Your 'a' value is not correct on test2.png.\"\n",
    "assert( abs(test2['b'] - 52.9799) < 0.001 ), \"Your 'b' value is not correct on test2.png.\"\n",
    "\n",
    "\n",
    "test3 = test_findAverageImageColor('test3.png')\n",
    "\n",
    "print(f\"{info} Your test3.png values: (L={test3['L']}, a={test3['a']}, b={test3['b']})\")\n",
    "assert( abs(test3['L'] - 46.414) < 0.001 ), \"Your 'L' value is not correct on test3.png.\"\n",
    "assert( abs(test3['a'] - 47.892) < 0.001 ), \"Your 'a' value is not correct on test3.png.\"\n",
    "assert( abs(test3['b'] - 37.012) < 0.001 ), \"Your 'b' value is not correct on test3.png.\"\n",
    "\n",
    "\n",
    "## == SUCCESS MESSAGE ==\n",
    "# You will only see this message (with the emoji showing) if you passed all test cases:\n",
    "tada = \"\\N{PARTY POPPER}\"\n",
    "print()\n",
    "print(f\"{tada} All tests passed! {tada}\")"
   ]
  },
  {
   "cell_type": "markdown",
   "metadata": {},
   "source": [
    "## Part 1 Image Analysis -- Your Images\n",
    "\n",
    "Once your function works and passes all the test cases, this code loads all files in the folder specified in `project1-settings.ipynb` and stores the average color value of the image in `tile-images.csv`.\n",
    "\n",
    "- This code is already complete, but depends on a correct `findAverageImageColor` function!\n",
    "- Make sure your code is complete before running this function!\n",
    "- If you have a File Not Found Error, double check the location of your tile images in `project1-settings.ipynb`!\n"
   ]
  },
  {
   "cell_type": "code",
   "execution_count": 39,
   "metadata": {},
   "outputs": [
    {
     "name": "stdout",
     "output_type": "stream",
     "text": [
      "Starting to process 1805 files...\n",
      "  ... 1805 / 1805 total files processed (100.00%)\n",
      "\n",
      "🎉 Image data saved as tile-images.csv\n",
      "                                                   file          L          a  \\\n",
      "0     images//12543290_743782945758728_2050232560_n.png  43.423874   1.603944   \n",
      "1     images//929215_352643904900366_812094193_n-9-1...  54.047168   8.768161   \n",
      "2     images//17267774_227185591020106_4151870126842...  53.456438   5.778413   \n",
      "3      images//11282781_107601682906321_284282954_n.png  57.428358   6.698477   \n",
      "4     images//929215_352643904900366_812094193_n-9-3...  43.733876   3.814923   \n",
      "...                                                 ...        ...        ...   \n",
      "1800   images//1515111_471984069660729_1275938831_n.png  46.017757   1.672017   \n",
      "1801  images//929215_352643904900366_812094193_n-9-4...  57.341433  17.884570   \n",
      "1802  images//929215_352643904900366_812094193_n-9-1...  55.214231  -2.963837   \n",
      "1803  images//929215_352643904900366_812094193_n-9-4...  53.740130   1.789976   \n",
      "1804  images//929215_352643904900366_812094193_n-9-1...  38.797324  -0.776136   \n",
      "\n",
      "              b  \n",
      "0      2.801261  \n",
      "1     15.891455  \n",
      "2      3.036506  \n",
      "3    -11.180895  \n",
      "4    -10.704922  \n",
      "...         ...  \n",
      "1800   2.774959  \n",
      "1801  22.300357  \n",
      "1802  -3.680532  \n",
      "1803  27.987370  \n",
      "1804   7.905989  \n",
      "\n",
      "[1805 rows x 4 columns]\n"
     ]
    }
   ],
   "source": [
    "import pandas as pd\n",
    "\n",
    "import PIL\n",
    "from PIL import Image\n",
    "\n",
    "from os import listdir\n",
    "from os.path import isfile, join\n",
    "import sys\n",
    "\n",
    "\n",
    "# Run the `project1-settings.ipynb` notebook:\n",
    "%run project1-settings.ipynb\n",
    "\n",
    "def isImageFile(file):\n",
    "    if file.endswith(\".jpg\") or file.endswith(\".jpeg\") or file.endswith(\".png\") or file.endswith(\".gif\") or \\\n",
    "       file.endswith(\".JPG\") or file.endswith(\".JPEG\") or file.endswith(\".PNG\") or file.endswith(\".GIF\"):\n",
    "        return True\n",
    "    else:\n",
    "        return False\n",
    "\n",
    "\n",
    "# Use `data` to store data about every image:\n",
    "data = []\n",
    "    \n",
    "# Loop through every file:\n",
    "error = False\n",
    "files = [tileImageDir + \"/\" + f for f in listdir(tileImageDir + \"/\") if isfile(join(tileImageDir + \"/\", f)) and isImageFile(join(tileImageDir + \"/\", f))]\n",
    "print(f\"Starting to process {len(files)} files...\")\n",
    "for file in files:\n",
    "    try:\n",
    "        # Reduce file to outputSize in pixels\n",
    "        lab = fileToLabArray(file)\n",
    "        w = len(lab)\n",
    "        h = len(lab[0])\n",
    "                \n",
    "        # Run `findAverageImageColor` and store the result:\n",
    "        result = findAverageImageColor(lab, w, h)\n",
    "        d = { 'file': file, 'L': result['L'], 'a': result['a'], 'b': result['b'] }\n",
    "        data.append(d)\n",
    "        \n",
    "        # Print out message for the user:\n",
    "        pct = len(data) / len(files) * 100\n",
    "        sys.stdout.write(f\"\\r  ... {len(data)} / {len(files)} total files processed ({pct:.2f}%)\")\n",
    "    except ValueError as e:\n",
    "        print()\n",
    "        print()\n",
    "        print(f\"ERROR: `{file}` failed to process.\")\n",
    "        print(\"...try to remove the image and run again.\")\n",
    "        print(repr(e))\n",
    "        error = True\n",
    "        break\n",
    "                \n",
    "# Save the data as a DataFrame and CSV file:\n",
    "if not error:\n",
    "    df = pd.DataFrame(data)\n",
    "    df.to_csv('tile-images.csv')\n",
    "    df\n",
    "\n",
    "    tada = \"\\N{PARTY POPPER}\"\n",
    "    print(\"\")\n",
    "    print(\"\")\n",
    "    print(f\"{tada} Image data saved as \"\"tile-images.csv\"\"\")\n",
    "    print(df)"
   ]
  },
  {
   "cell_type": "markdown",
   "metadata": {},
   "source": [
    "## Turn In and Continue to Part 2\n",
    "\n",
    "- Make sure to turn in Part 1 by the due date!\n",
    "- Part 2 will use the CSV file you saved, `tile-images.csv`, to build your image mosaic!"
   ]
  },
  {
   "cell_type": "code",
   "execution_count": null,
   "metadata": {},
   "outputs": [],
   "source": []
  }
 ],
 "metadata": {
  "kernelspec": {
   "display_name": "Python 3",
   "language": "python",
   "name": "python3"
  },
  "language_info": {
   "codemirror_mode": {
    "name": "ipython",
    "version": 3
   },
   "file_extension": ".py",
   "mimetype": "text/x-python",
   "name": "python",
   "nbconvert_exporter": "python",
   "pygments_lexer": "ipython3",
   "version": "3.7.6"
  }
 },
 "nbformat": 4,
 "nbformat_minor": 2
}
